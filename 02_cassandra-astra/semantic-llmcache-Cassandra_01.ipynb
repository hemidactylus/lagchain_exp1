{
 "cells": [
  {
   "cell_type": "markdown",
   "id": "cb5865c6",
   "metadata": {},
   "source": [
    "# Semantic cache in Cassandra\n",
    "\n",
    "Based on the CEP-30 pre-release Cassandra + py drivers"
   ]
  },
  {
   "cell_type": "code",
   "execution_count": null,
   "id": "cc8f351d",
   "metadata": {},
   "outputs": [],
   "source": [
    "import langchain\n",
    "from langchain.llms import OpenAI\n",
    "from langchain.embeddings import OpenAIEmbeddings"
   ]
  },
  {
   "cell_type": "code",
   "execution_count": null,
   "id": "f8dae41b",
   "metadata": {},
   "outputs": [],
   "source": [
    "from CassandraCache import CassandraSemanticCache"
   ]
  },
  {
   "cell_type": "code",
   "execution_count": null,
   "id": "56a53c56",
   "metadata": {},
   "outputs": [],
   "source": [
    "from cqlsession import getLocalCassandraSession\n",
    "localSession = getLocalCassandraSession()"
   ]
  },
  {
   "cell_type": "code",
   "execution_count": null,
   "id": "822c9b02",
   "metadata": {},
   "outputs": [],
   "source": [
    "myEmbedding = OpenAIEmbeddings()"
   ]
  },
  {
   "cell_type": "code",
   "execution_count": null,
   "id": "bb757059",
   "metadata": {},
   "outputs": [],
   "source": [
    "langchain.llm_cache = CassandraSemanticCache(session=localSession, keyspace='demo', embedding=myEmbedding)"
   ]
  },
  {
   "cell_type": "code",
   "execution_count": null,
   "id": "8d849aa9",
   "metadata": {},
   "outputs": [],
   "source": [
    "llm = OpenAI(model_name=\"text-davinci-002\", n=2, best_of=2)"
   ]
  },
  {
   "cell_type": "code",
   "execution_count": null,
   "id": "b04c7111",
   "metadata": {},
   "outputs": [],
   "source": [
    "%%time\n",
    "# The first time, it is not yet in cache, so it should take longer\n",
    "llm(\"How many eyes do spiders have?\")"
   ]
  },
  {
   "cell_type": "code",
   "execution_count": null,
   "id": "21ef6993",
   "metadata": {},
   "outputs": [],
   "source": [
    "%%time\n",
    "# Second time, very same question\n",
    "llm(\"How many eyes do spiders have?\")"
   ]
  },
  {
   "cell_type": "code",
   "execution_count": null,
   "id": "56502f3b",
   "metadata": {},
   "outputs": [],
   "source": [
    "%%time\n",
    "# Second time, very same question\n",
    "llm(\"How many eyes does a spider generally have?\")"
   ]
  },
  {
   "cell_type": "code",
   "execution_count": null,
   "id": "b3a514bc",
   "metadata": {
    "scrolled": false
   },
   "outputs": [],
   "source": [
    "%%time\n",
    "# Second time, very same question\n",
    "llm(\"Is absence of proof the same as proof of absence?\")"
   ]
  },
  {
   "cell_type": "code",
   "execution_count": null,
   "id": "1ec10042",
   "metadata": {},
   "outputs": [],
   "source": [
    "%%time\n",
    "# Second time, very same question\n",
    "llm(\"How many eyes are on the head of a typical spider?\")"
   ]
  }
 ],
 "metadata": {
  "kernelspec": {
   "display_name": "Python 3 (ipykernel)",
   "language": "python",
   "name": "python3"
  },
  "language_info": {
   "codemirror_mode": {
    "name": "ipython",
    "version": 3
   },
   "file_extension": ".py",
   "mimetype": "text/x-python",
   "name": "python",
   "nbconvert_exporter": "python",
   "pygments_lexer": "ipython3",
   "version": "3.10.11"
  }
 },
 "nbformat": 4,
 "nbformat_minor": 5
}
