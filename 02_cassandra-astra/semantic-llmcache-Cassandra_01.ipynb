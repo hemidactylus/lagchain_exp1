{
 "cells": [
  {
   "cell_type": "markdown",
   "id": "cb5865c6",
   "metadata": {},
   "source": [
    "# Semantic cache in Cassandra\n",
    "\n",
    "Based on the CEP-30 pre-release Cassandra + py drivers"
   ]
  },
  {
   "cell_type": "code",
   "execution_count": 1,
   "id": "358a1009",
   "metadata": {},
   "outputs": [],
   "source": [
    "# Open AI\n",
    "from langchain.llms import OpenAI\n",
    "from langchain.embeddings import OpenAIEmbeddings\n",
    "myEmbedding = OpenAIEmbeddings()\n",
    "llm = OpenAI(model_name=\"text-davinci-002\", n=2, best_of=2)"
   ]
  },
  {
   "cell_type": "code",
   "execution_count": null,
   "id": "c378076a",
   "metadata": {},
   "outputs": [],
   "source": [
    "# # Google VertexAI\n",
    "# from googleVertexLLM import googleVertexAILLM, googleVertexEmbeddings\n",
    "# llm = googleVertexAILLM()\n",
    "# myEmbedding = googleVertexEmbeddings()"
   ]
  },
  {
   "cell_type": "code",
   "execution_count": 2,
   "id": "cc8f351d",
   "metadata": {},
   "outputs": [],
   "source": [
    "import langchain"
   ]
  },
  {
   "cell_type": "code",
   "execution_count": 3,
   "id": "f8dae41b",
   "metadata": {},
   "outputs": [],
   "source": [
    "from CassandraCache import CassandraSemanticCache"
   ]
  },
  {
   "cell_type": "code",
   "execution_count": 4,
   "id": "56a53c56",
   "metadata": {},
   "outputs": [],
   "source": [
    "from cqlsession import getLocalCassandraSession\n",
    "localSession = getLocalCassandraSession()"
   ]
  },
  {
   "cell_type": "code",
   "execution_count": 5,
   "id": "bb757059",
   "metadata": {},
   "outputs": [],
   "source": [
    "langchain.llm_cache = CassandraSemanticCache(session=localSession, keyspace='demo', embedding=myEmbedding)"
   ]
  },
  {
   "cell_type": "code",
   "execution_count": 10,
   "id": "b04c7111",
   "metadata": {},
   "outputs": [
    {
     "name": "stdout",
     "output_type": "stream",
     "text": [
      "CPU times: user 10.2 ms, sys: 1.23 ms, total: 11.4 ms\n",
      "Wall time: 1.11 s\n"
     ]
    },
    {
     "data": {
      "text/plain": [
       "'\\n\\nMost spiders have eight eyes.'"
      ]
     },
     "execution_count": 10,
     "metadata": {},
     "output_type": "execute_result"
    }
   ],
   "source": [
    "%%time\n",
    "# The first time, it is not yet in cache, so it should take longer\n",
    "llm(\"How many eyes do spiders have?\")"
   ]
  },
  {
   "cell_type": "code",
   "execution_count": 11,
   "id": "21ef6993",
   "metadata": {},
   "outputs": [
    {
     "name": "stdout",
     "output_type": "stream",
     "text": [
      "CPU times: user 6.37 ms, sys: 0 ns, total: 6.37 ms\n",
      "Wall time: 65 ms\n"
     ]
    },
    {
     "data": {
      "text/plain": [
       "'\\n\\nMost spiders have eight eyes.'"
      ]
     },
     "execution_count": 11,
     "metadata": {},
     "output_type": "execute_result"
    }
   ],
   "source": [
    "%%time\n",
    "# Second time, very same question\n",
    "llm(\"How many eyes do spiders have?\")"
   ]
  },
  {
   "cell_type": "code",
   "execution_count": 12,
   "id": "56502f3b",
   "metadata": {},
   "outputs": [
    {
     "name": "stdout",
     "output_type": "stream",
     "text": [
      "CPU times: user 4.14 ms, sys: 73 µs, total: 4.21 ms\n",
      "Wall time: 58.6 ms\n"
     ]
    },
    {
     "data": {
      "text/plain": [
       "'\\n\\nMost spiders have eight eyes.'"
      ]
     },
     "execution_count": 12,
     "metadata": {},
     "output_type": "execute_result"
    }
   ],
   "source": [
    "%%time\n",
    "# Second time, very same question\n",
    "llm(\"How many eyes does a spider generally have?\")"
   ]
  },
  {
   "cell_type": "code",
   "execution_count": 13,
   "id": "b3a514bc",
   "metadata": {
    "scrolled": false
   },
   "outputs": [
    {
     "name": "stdout",
     "output_type": "stream",
     "text": [
      "CPU times: user 18.1 ms, sys: 1.11 ms, total: 19.2 ms\n",
      "Wall time: 3.04 s\n"
     ]
    },
    {
     "data": {
      "text/plain": [
       "'\\n\\nNo, absence of proof is not the same as proof of absence.'"
      ]
     },
     "execution_count": 13,
     "metadata": {},
     "output_type": "execute_result"
    }
   ],
   "source": [
    "%%time\n",
    "# Second time, very same question\n",
    "llm(\"Is absence of proof the same as proof of absence?\")"
   ]
  },
  {
   "cell_type": "code",
   "execution_count": 15,
   "id": "1ec10042",
   "metadata": {},
   "outputs": [
    {
     "name": "stdout",
     "output_type": "stream",
     "text": [
      "CPU times: user 10.2 ms, sys: 1.14 ms, total: 11.4 ms\n",
      "Wall time: 637 ms\n"
     ]
    },
    {
     "data": {
      "text/plain": [
       "'\\n\\nMost spiders have eight eyes.'"
      ]
     },
     "execution_count": 15,
     "metadata": {},
     "output_type": "execute_result"
    }
   ],
   "source": [
    "%%time\n",
    "# Second time, very same question\n",
    "llm(\"How many eyes are on the head of a typical spider?\")"
   ]
  },
  {
   "cell_type": "code",
   "execution_count": 14,
   "id": "2af4eb2f",
   "metadata": {},
   "outputs": [
    {
     "name": "stdout",
     "output_type": "stream",
     "text": [
      "CPU times: user 11.3 ms, sys: 0 ns, total: 11.3 ms\n",
      "Wall time: 475 ms\n"
     ]
    },
    {
     "data": {
      "text/plain": [
       "'\\n\\nNo, absence of proof is not the same as proof of absence.'"
      ]
     },
     "execution_count": 14,
     "metadata": {},
     "output_type": "execute_result"
    }
   ],
   "source": [
    "%%time\n",
    "# Second time, very same question\n",
    "llm(\"Is it true that the absence of a proof equates the proof of an absence?\")"
   ]
  }
 ],
 "metadata": {
  "kernelspec": {
   "display_name": "Python 3 (ipykernel)",
   "language": "python",
   "name": "python3"
  },
  "language_info": {
   "codemirror_mode": {
    "name": "ipython",
    "version": 3
   },
   "file_extension": ".py",
   "mimetype": "text/x-python",
   "name": "python",
   "nbconvert_exporter": "python",
   "pygments_lexer": "ipython3",
   "version": "3.10.11"
  }
 },
 "nbformat": 4,
 "nbformat_minor": 5
}
