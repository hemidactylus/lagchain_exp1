{
 "cells": [
  {
   "cell_type": "markdown",
   "id": "9928791e",
   "metadata": {},
   "source": [
    "# We try to replace the (exact-match) cache with a smooth Cassandra"
   ]
  },
  {
   "cell_type": "code",
   "execution_count": 1,
   "id": "aeb53533",
   "metadata": {},
   "outputs": [],
   "source": [
    "from langchain.llms import OpenAI"
   ]
  },
  {
   "cell_type": "code",
   "execution_count": 2,
   "id": "4c0fcbd6",
   "metadata": {},
   "outputs": [],
   "source": [
    "import langchain"
   ]
  },
  {
   "cell_type": "code",
   "execution_count": 3,
   "id": "5ef69e59",
   "metadata": {},
   "outputs": [],
   "source": [
    "from CassandraCache import CassandraCache"
   ]
  },
  {
   "cell_type": "code",
   "execution_count": 4,
   "id": "544f1a1d",
   "metadata": {},
   "outputs": [],
   "source": [
    "# This is where the session is created to later pass it to the CassandraCache\n",
    "import os\n",
    "from dotenv import load_dotenv\n",
    "from cassandra.cluster import Cluster\n",
    "from cassandra.auth import PlainTextAuthProvider\n",
    "\n",
    "load_dotenv()\n",
    "\n",
    "ASTRA_DB_SECURE_BUNDLE_PATH = os.environ[\"ASTRA_DB_SECURE_BUNDLE_PATH\"]\n",
    "ASTRA_DB_CLIENT_ID = \"token\"\n",
    "ASTRA_DB_APPLICATION_TOKEN = os.environ[\"ASTRA_DB_APPLICATION_TOKEN\"]\n",
    "\n",
    "cluster = Cluster(\n",
    "    cloud={\n",
    "        \"secure_connect_bundle\": ASTRA_DB_SECURE_BUNDLE_PATH,\n",
    "    },\n",
    "    auth_provider=PlainTextAuthProvider(\n",
    "        ASTRA_DB_CLIENT_ID,\n",
    "        ASTRA_DB_APPLICATION_TOKEN,\n",
    "    ),\n",
    ")\n",
    "astraSession = cluster.connect()"
   ]
  },
  {
   "cell_type": "code",
   "execution_count": 5,
   "id": "a3acfbaf",
   "metadata": {},
   "outputs": [],
   "source": [
    "langchain.llm_cache = CassandraCache(session=astraSession, keyspace='langchain')"
   ]
  },
  {
   "cell_type": "code",
   "execution_count": 6,
   "id": "bd7f12fd",
   "metadata": {},
   "outputs": [],
   "source": [
    "llm = OpenAI(model_name=\"text-davinci-002\", n=2, best_of=2)"
   ]
  },
  {
   "cell_type": "code",
   "execution_count": 7,
   "id": "15c75e39",
   "metadata": {},
   "outputs": [
    {
     "name": "stdout",
     "output_type": "stream",
     "text": [
      "CPU times: user 36 ms, sys: 9.74 ms, total: 45.8 ms\n",
      "Wall time: 929 ms\n"
     ]
    },
    {
     "data": {
      "text/plain": [
       "'\\n\\nMost spiders have eight eyes, but some have six or fewer.'"
      ]
     },
     "execution_count": 7,
     "metadata": {},
     "output_type": "execute_result"
    }
   ],
   "source": [
    "%%time\n",
    "# The first time, it is not yet in cache, so it should take longer\n",
    "llm(\"How many eyes do spiders have?\")"
   ]
  },
  {
   "cell_type": "code",
   "execution_count": 8,
   "id": "4421514e",
   "metadata": {},
   "outputs": [
    {
     "name": "stdout",
     "output_type": "stream",
     "text": [
      "CPU times: user 1.69 ms, sys: 177 µs, total: 1.87 ms\n",
      "Wall time: 122 ms\n"
     ]
    },
    {
     "data": {
      "text/plain": [
       "'\\n\\nMost spiders have eight eyes, but some have six or fewer.'"
      ]
     },
     "execution_count": 8,
     "metadata": {},
     "output_type": "execute_result"
    }
   ],
   "source": [
    "%%time\n",
    "# This time we expect a much shorter answer time\n",
    "llm(\"How many eyes do spiders have?\")"
   ]
  },
  {
   "cell_type": "markdown",
   "id": "83c32696",
   "metadata": {},
   "source": [
    "## You may want to check the Astra table now."
   ]
  }
 ],
 "metadata": {
  "kernelspec": {
   "display_name": "Python 3 (ipykernel)",
   "language": "python",
   "name": "python3"
  },
  "language_info": {
   "codemirror_mode": {
    "name": "ipython",
    "version": 3
   },
   "file_extension": ".py",
   "mimetype": "text/x-python",
   "name": "python",
   "nbconvert_exporter": "python",
   "pygments_lexer": "ipython3",
   "version": "3.10.11"
  }
 },
 "nbformat": 4,
 "nbformat_minor": 5
}
