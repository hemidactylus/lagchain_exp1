{
 "cells": [
  {
   "cell_type": "markdown",
   "id": "9dabfab2",
   "metadata": {},
   "source": [
    "# MOVED TO CASSIO EXAMPLES"
   ]
  },
  {
   "cell_type": "markdown",
   "id": "a5fdc6b7",
   "metadata": {},
   "source": [
    "# DB-backed prompts in chat sequences"
   ]
  },
  {
   "cell_type": "markdown",
   "id": "c79800f9",
   "metadata": {},
   "source": [
    "### First a setup similar to the non-chat counterpart"
   ]
  },
  {
   "cell_type": "code",
   "execution_count": null,
   "id": "fb86a3fc",
   "metadata": {},
   "outputs": [],
   "source": [
    "from cassandraPromptTemplate import createCassandraPromptTemplate"
   ]
  },
  {
   "cell_type": "code",
   "execution_count": null,
   "id": "7c16b7d7",
   "metadata": {},
   "outputs": [],
   "source": [
    "from cqlsession import getCqlSession\n",
    "astraSession = getCqlSession()"
   ]
  },
  {
   "cell_type": "code",
   "execution_count": null,
   "id": "4af437c2",
   "metadata": {},
   "outputs": [],
   "source": [
    "# this is the prompt for a single message in the chat sequence.\n",
    "# We create with the cassandra-powered data-extraction logic.\n",
    "systemTemplate = \"\"\"\n",
    "You are a chat assistant, helping a user of age {user_age} from a city\n",
    "they refer to as {city_nickname}.\n",
    "\"\"\"\n",
    "\n",
    "cassSystemPrompt = createCassandraPromptTemplate(\n",
    "    session=astraSession,\n",
    "    keyspace='pqdemo',\n",
    "    template=systemTemplate,\n",
    "    # this will work because input_variables are the actual variables passed in formatting:\n",
    "    input_variables=['city', 'name'],\n",
    "    field_mapper={\n",
    "        'user_age': ('people', 'age'),\n",
    "        'city_nickname': ('nickname_by_city', 'nickname'),\n",
    "    },\n",
    ")"
   ]
  },
  {
   "cell_type": "code",
   "execution_count": null,
   "id": "cb64dbf1",
   "metadata": {},
   "outputs": [],
   "source": [
    "from langchain.prompts import (\n",
    "    ChatPromptTemplate,\n",
    "    SystemMessagePromptTemplate,\n",
    "    HumanMessagePromptTemplate,\n",
    ")\n",
    "systemMessagePrompt = SystemMessagePromptTemplate(prompt=cassSystemPrompt)"
   ]
  },
  {
   "cell_type": "markdown",
   "id": "f43c6af8",
   "metadata": {},
   "source": [
    "## Putting this (DB-connected) system message into a broader chat sequence"
   ]
  },
  {
   "cell_type": "code",
   "execution_count": null,
   "id": "8a8d061e",
   "metadata": {},
   "outputs": [],
   "source": [
    "humanTemplate = \"{text}\"\n",
    "humanMessagePrompt = HumanMessagePromptTemplate.from_template(humanTemplate)"
   ]
  },
  {
   "cell_type": "code",
   "execution_count": null,
   "id": "f72df407",
   "metadata": {},
   "outputs": [],
   "source": [
    "cassChatPrompt = ChatPromptTemplate.from_messages([systemMessagePrompt, humanMessagePrompt])"
   ]
  },
  {
   "cell_type": "markdown",
   "id": "950147b7",
   "metadata": {},
   "source": [
    "### Trying an all-encompassing rendering"
   ]
  },
  {
   "cell_type": "code",
   "execution_count": null,
   "id": "0d300274",
   "metadata": {
    "scrolled": false
   },
   "outputs": [],
   "source": [
    "print(cassChatPrompt.format_prompt(\n",
    "    city='turin',\n",
    "    name='beppe',\n",
    "    text='Assistant, please help me!'\n",
    ").to_string())"
   ]
  },
  {
   "cell_type": "code",
   "execution_count": null,
   "id": "9859954e",
   "metadata": {},
   "outputs": [],
   "source": [
    "# Partialing is not implemented for ChatPromptTemplate\n",
    "try:\n",
    "    cassChatPartialPrompt = cassChatPrompt.partial(city='turin', name='beppe')\n",
    "except NotImplementedError:\n",
    "    print('\"NotImplementedError\" raised by partialing ChatPromptTemplate')"
   ]
  }
 ],
 "metadata": {
  "kernelspec": {
   "display_name": "Python 3 (ipykernel)",
   "language": "python",
   "name": "python3"
  },
  "language_info": {
   "codemirror_mode": {
    "name": "ipython",
    "version": 3
   },
   "file_extension": ".py",
   "mimetype": "text/x-python",
   "name": "python",
   "nbconvert_exporter": "python",
   "pygments_lexer": "ipython3",
   "version": "3.10.11"
  }
 },
 "nbformat": 4,
 "nbformat_minor": 5
}
