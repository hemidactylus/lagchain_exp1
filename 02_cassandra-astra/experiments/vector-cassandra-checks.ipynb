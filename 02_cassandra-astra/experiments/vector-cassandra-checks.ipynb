{
 "cells": [
  {
   "cell_type": "code",
   "execution_count": null,
   "id": "996b7fc6",
   "metadata": {},
   "outputs": [],
   "source": [
    "from cassandra.cluster import Cluster\n",
    "from cassandra.query import SimpleStatement"
   ]
  },
  {
   "cell_type": "code",
   "execution_count": null,
   "id": "366db0d6",
   "metadata": {},
   "outputs": [],
   "source": [
    "# we are connecting to a locally-running C* with the alpha vector indexing\n",
    "# (and we use the existing table and its index)\n",
    "keyspace = 'demo'\n",
    "table = 'youtube_transcriptions'\n",
    "cluster = Cluster()\n",
    "session = cluster.connect()"
   ]
  },
  {
   "cell_type": "code",
   "execution_count": null,
   "id": "b33ce4e1",
   "metadata": {},
   "outputs": [],
   "source": [
    "import openai\n",
    "embed_model = \"text-embedding-ada-002\"\n",
    "\n",
    "def embedding_of_sentence(stc):\n",
    "    res = openai.Embedding.create(\n",
    "        input=[stc],\n",
    "        engine=embed_model\n",
    "    )\n",
    "    return res['data'][0]['embedding']"
   ]
  },
  {
   "cell_type": "code",
   "execution_count": null,
   "id": "777e142e",
   "metadata": {},
   "outputs": [],
   "source": [
    "# vectorize an input sentence\n",
    "input_sentence = 'What is the average number of epochs needed to train a fast-forward network?'\n",
    "input_embedding = embedding_of_sentence(input_sentence)\n",
    "print(type(input_embedding), len(input_embedding))"
   ]
  },
  {
   "cell_type": "code",
   "execution_count": null,
   "id": "94e1225f",
   "metadata": {},
   "outputs": [],
   "source": [
    "# let's look at the matches\n",
    "searcher = SimpleStatement(\n",
    "    f\"SELECT id, embedding, text FROM {keyspace}.{table} WHERE embedding ANN OF %s LIMIT %s\"\n",
    ")"
   ]
  },
  {
   "cell_type": "code",
   "execution_count": null,
   "id": "8efc7ee9",
   "metadata": {},
   "outputs": [],
   "source": [
    "top_k = 40\n",
    "q_vec = input_embedding\n",
    "closests = list(session.execute(searcher, (q_vec, top_k)))"
   ]
  },
  {
   "cell_type": "code",
   "execution_count": null,
   "id": "13004a14",
   "metadata": {},
   "outputs": [],
   "source": [
    "# aaa\n",
    "ie = embedding_of_sentence('How many eyes do spiders have?')\n",
    "ie"
   ]
  },
  {
   "cell_type": "code",
   "execution_count": null,
   "id": "65828951",
   "metadata": {},
   "outputs": [],
   "source": [
    "top_k = 40\n",
    "q_vec = input_embedding\n",
    "closests = list(session.execute(searcher, (ie, top_k)))"
   ]
  },
  {
   "cell_type": "code",
   "execution_count": null,
   "id": "61eec3aa",
   "metadata": {},
   "outputs": [],
   "source": [
    "# let's check the scalar products for instance (norm, distances)\n",
    "import numpy as np\n",
    "\n",
    "def emb_scal(e1, e2):\n",
    "    # inefficient, we numpyify all the time\n",
    "    return np.dot(\n",
    "        np.array(e1, dtype=float),\n",
    "        np.array(e2, dtype=float),\n",
    "    )\n",
    "\n",
    "\n",
    "def emb_scals(e1s, e2):\n",
    "    # e1s a list of embedding vectors (lists)\n",
    "    return np.dot(\n",
    "        np.array(e1s, dtype=float),\n",
    "        np.array(e2, dtype=float),\n",
    "    )"
   ]
  },
  {
   "cell_type": "code",
   "execution_count": null,
   "id": "4538d15c",
   "metadata": {},
   "outputs": [],
   "source": [
    "print('Norms:')\n",
    "print('|query|^2 = %f' % emb_scal(q_vec, q_vec))\n",
    "for i, r in enumerate(closests):\n",
    "    print('|result[%i]|^2 = %f' % (i, emb_scal(r.embedding, r.embedding)))\n",
    "\n",
    "print('\\nScalprods with query:')\n",
    "for i, r in enumerate(closests):\n",
    "    print('query . result[%i] = %f' % (i, emb_scal(q_vec, r.embedding)))\n"
   ]
  },
  {
   "cell_type": "code",
   "execution_count": null,
   "id": "7f5ff60a",
   "metadata": {},
   "outputs": [],
   "source": [
    "# the ANNs come in no particular order.\n",
    "# It looks like we fetch some, calculate norms, sort and keep the best if better than threshold"
   ]
  },
  {
   "cell_type": "code",
   "execution_count": null,
   "id": "c8befeb2",
   "metadata": {},
   "outputs": [],
   "source": [
    "list(emb_scals([r.embedding for r in closests[:3]], q_vec))"
   ]
  }
 ],
 "metadata": {
  "kernelspec": {
   "display_name": "Python 3 (ipykernel)",
   "language": "python",
   "name": "python3"
  },
  "language_info": {
   "codemirror_mode": {
    "name": "ipython",
    "version": 3
   },
   "file_extension": ".py",
   "mimetype": "text/x-python",
   "name": "python",
   "nbconvert_exporter": "python",
   "pygments_lexer": "ipython3",
   "version": "3.10.11"
  }
 },
 "nbformat": 4,
 "nbformat_minor": 5
}
