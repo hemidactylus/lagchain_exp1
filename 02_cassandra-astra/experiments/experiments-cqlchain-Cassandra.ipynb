{
 "cells": [
  {
   "cell_type": "markdown",
   "id": "3fada7d8",
   "metadata": {},
   "source": [
    "# Experiments with CQL-adapted prompts"
   ]
  },
  {
   "cell_type": "code",
   "execution_count": 1,
   "id": "cecd3efd",
   "metadata": {},
   "outputs": [],
   "source": [
    "from langchain import OpenAI"
   ]
  },
  {
   "cell_type": "code",
   "execution_count": 2,
   "id": "b739f59d",
   "metadata": {},
   "outputs": [],
   "source": [
    "llm = OpenAI(temperature=0)"
   ]
  },
  {
   "cell_type": "markdown",
   "id": "a35746fa",
   "metadata": {},
   "source": [
    "### we get a Cassandra session"
   ]
  },
  {
   "cell_type": "code",
   "execution_count": 4,
   "id": "3e8cbc93",
   "metadata": {},
   "outputs": [],
   "source": [
    "# This is where the session is created to later pass it to the CassandraCache\n",
    "import os\n",
    "from dotenv import load_dotenv\n",
    "from cassandra.cluster import Cluster\n",
    "from cassandra.auth import PlainTextAuthProvider\n",
    "\n",
    "load_dotenv()\n",
    "\n",
    "ASTRA_DB_SECURE_BUNDLE_PATH = os.environ[\"ASTRA_DB_SECURE_BUNDLE_PATH\"]\n",
    "ASTRA_DB_CLIENT_ID = \"token\"\n",
    "ASTRA_DB_APPLICATION_TOKEN = os.environ[\"ASTRA_DB_APPLICATION_TOKEN\"]\n",
    "\n",
    "cluster = Cluster(\n",
    "    cloud={\n",
    "        \"secure_connect_bundle\": ASTRA_DB_SECURE_BUNDLE_PATH,\n",
    "    },\n",
    "    auth_provider=PlainTextAuthProvider(\n",
    "        ASTRA_DB_CLIENT_ID,\n",
    "        ASTRA_DB_APPLICATION_TOKEN,\n",
    "    ),\n",
    ")\n",
    "astraSession = cluster.connect()"
   ]
  },
  {
   "cell_type": "markdown",
   "id": "e1534599",
   "metadata": {},
   "source": [
    "### We create a table_info"
   ]
  },
  {
   "cell_type": "code",
   "execution_count": 5,
   "id": "d4dfa1e9",
   "metadata": {},
   "outputs": [],
   "source": [
    "# Keyspace descriptor\n",
    "def _desc_col(col):\n",
    "    return f'{col.name} {col.cql_type}{\" static\" if col.is_static else \"\"}'\n",
    "\n",
    "def _desc_cols(tab):\n",
    "    return '\\n'.join('    %s,' % _desc_col(tb) for _, tb in tab.columns.items())\n",
    "\n",
    "def _desc_pk(tab):\n",
    "    partk_spec = ' , '.join([col.name for col in tab.partition_key])\n",
    "    clustering_spec = ' , '.join([col.name for col in tab.clustering_key])\n",
    "    return f'    PRIMARY KEY ( ( {partk_spec} ) , {clustering_spec} )'\n",
    "\n",
    "CREATE_TABLE_TEMPLATE = \"\"\"CREATE TABLE {keyspace_name}.{table_name} (\n",
    "{columns}\n",
    "{primary_key}\n",
    ");\"\"\"\n",
    "\n",
    "def _desc_tab(tab):\n",
    "    return CREATE_TABLE_TEMPLATE.format(\n",
    "        keyspace_name=tab.keyspace_name,\n",
    "        table_name=tab.name,\n",
    "        columns=_desc_cols(tab),\n",
    "        primary_key=_desc_pk(tab),\n",
    "    )\n",
    "\n",
    "def describeKeyspace(session, keyspace):\n",
    "    return '\\n\\n'.join(\n",
    "        _desc_tab(tab)\n",
    "        for _, tab in session.cluster.metadata.keyspaces[keyspace].tables.items()\n",
    "    )"
   ]
  },
  {
   "cell_type": "code",
   "execution_count": 6,
   "id": "abf6c72d",
   "metadata": {
    "scrolled": false
   },
   "outputs": [
    {
     "name": "stdout",
     "output_type": "stream",
     "text": [
      "CREATE TABLE pqdemo.base_types (\n",
      "    key_text text,\n",
      "    col_ascii ascii,\n",
      "    col_bigint bigint,\n",
      "    col_blob blob,\n",
      "    col_boolean boolean,\n",
      "    col_date date,\n",
      "    col_decimal decimal,\n",
      "    col_double double,\n",
      "    col_float float,\n",
      "    col_inet inet,\n",
      "    col_int int,\n",
      "    col_smallint smallint,\n",
      "    col_text text,\n",
      "    col_time time,\n",
      "    col_timestamp timestamp,\n",
      "    col_timeuuid timeuuid,\n",
      "    col_tinyint tinyint,\n",
      "    col_uuid uuid,\n",
      "    col_varchar text,\n",
      "    col_varint varint,\n",
      "    PRIMARY KEY ( ( key_text ) ,  )\n",
      ");\n",
      "\n",
      "CREATE TABLE pqdemo.coll_test (\n",
      "    k text,\n",
      "    los list<text>,\n",
      "    sos set<int>,\n",
      "    PRIMARY KEY ( ( k ) ,  )\n",
      ");\n",
      "\n",
      "CREATE TABLE pqdemo.people (\n",
      "    city text,\n",
      "    name text,\n",
      "    age int,\n",
      "    PRIMARY KEY ( ( city ) , name )\n",
      ");\n",
      "\n",
      "CREATE TABLE pqdemo.pqdata (\n",
      "    city text,\n",
      "    name text,\n",
      "    age int,\n",
      "    PRIMARY KEY ( ( city ) , name )\n",
      ");\n",
      "\n",
      "CREATE TABLE pqdemo.w_counter (\n",
      "    k text,\n",
      "    c counter,\n",
      "    PRIMARY KEY ( ( k ) ,  )\n",
      ");\n"
     ]
    }
   ],
   "source": [
    "print(describeKeyspace(astraSession, 'pqdemo'))"
   ]
  },
  {
   "cell_type": "markdown",
   "id": "5b536ce4",
   "metadata": {},
   "source": [
    "## Experiments with prompts"
   ]
  },
  {
   "cell_type": "code",
   "execution_count": 8,
   "id": "c66ed43c",
   "metadata": {},
   "outputs": [],
   "source": [
    "cql_prompt0 = \"\"\"You are a Cassandra CQL expert. Given an input question,\n",
    "first create a syntactically correct CQL query to run,\n",
    "then look at the results of the query and return the answer to the input question.\n",
    "Unless the user specifies in the question a specific number of examples to obtain,\n",
    "query for at most {top_k} results using the LIMIT clause as per CQL.\n",
    "Never query for all columns from a table.\n",
    "CQL queries must always specify equalities for the partition key values in the WHERE clause.\n",
    "If this is impossible, refuse to execute the query.\n",
    "You must query only the columns that are needed to answer the question.\n",
    "Wrap each column name in double quotes (\") to denote them as delimited identifiers.\n",
    "Pay attention to use only the column names you can see in the tables below.\n",
    "Be careful to not query for columns that do not exist.\n",
    "Also, pay attention to which column is in which table.\n",
    "Remember that CQL statement must end with a semicolon (;).\n",
    "\n",
    "The query cannot contain the ORDER BY clause.\n",
    "\n",
    "Use the following format:\n",
    "\n",
    "Question: \"Question here\"\n",
    "CQLQuery: \"CQL Query to run\"\n",
    "CQLResult: \"Result of the CQLQuery\"\n",
    "Answer: \"Final answer here\"\n",
    "\n",
    "Only use the following tables:\n",
    "{table_info}\n",
    "\n",
    "The last line in each CREATE TABLE statement is of the form \"PRIMARY KEY ( (partition keys), clustering columns)\"\n",
    "\n",
    "Question: {input}\"\"\""
   ]
  },
  {
   "cell_type": "code",
   "execution_count": 33,
   "id": "521236bb",
   "metadata": {},
   "outputs": [],
   "source": [
    "cql_prompt = \"\"\"You are about to query a NoSQL database\n",
    "with a query language similar to SQL, whose rules are given below.\n",
    "Given an input question, first create a syntactically correct query to run,\n",
    "then look at the results of the query and return the answer to the input question.\n",
    "Unless the user specifies in the question a specific number of examples to obtain,\n",
    "query for at most {top_k} results using the LIMIT clause as you would to with SQL.\n",
    "\n",
    "These are example queries for this language:\n",
    "- \"SELECT column1, column2 FROM table WHERE partition_key=value;\"\n",
    "- \"SELECT COUNT(*) FROM table WHERE partition_key=value;\"\n",
    "- \"SELECT column1, column2, coliumn3 FROM table WHERE partition_key=value;\"\n",
    "- \"SELECT column1, column2, coliumn3 FROM table WHERE partition_key_1=value AND partition_key_2=value;\"\n",
    "Pay attention to the fact that this language differs from SQL in the following important points:\n",
    "- There is no concept of JOIN\n",
    "- You can use WHERE only for columns in the primary key. If you need more filtering in your data, you must do that after the query, on the returned data set.\n",
    "- The query must always specify the partition key columns in the WHERE clause.\n",
    "Value literal are either number or strings. Strings are enclosed in single quotes.\n",
    "Available tables are given below, and are described in a way similar to SQL.\n",
    "The \"PRIMARY KEY\" clause will list the \"partition key\" columns in the innermost brackets\n",
    "and the \"clustering columns\" in the outermost brackets, i.e.\n",
    "\"PRIMARY KEY ( ( partition1, partition2, ...), clustering1, clustering2, ...)\".\n",
    "The partition key columns MUST be specified in each query.\n",
    "You cannot have conditions on columns that are not specified in the PRIMARY KEY.\n",
    "You cannot use ORDER BY clauses as you would do in SQL.\n",
    "\n",
    "If necessary, the query should ask for more rows than needed to provide\n",
    "the answer and you should then interpret the results afterwards.\n",
    "Never query for all columns from a table.\n",
    "You must query only the columns that are needed to answer the question.\n",
    "Wrap each column name in double quotes (\") to denote them as delimited identifiers.\n",
    "Pay attention to use only the column names you can see in the tables below.\n",
    "Be careful to not query for columns that do not exist.\n",
    "Also, pay attention to which column is in which table.\n",
    "Remember that CQL statement must end with a semicolon (;).\n",
    "\n",
    "Use the following format:\n",
    "\n",
    "Question: \"Question here\"\n",
    "CQLQuery: \"CQL Query to run\"\n",
    "CQLResult: \"Result of the CQLQuery\"\n",
    "Answer: \"Final answer here\"\n",
    "\n",
    "Only use the following tables:\n",
    "{table_info}\n",
    "\n",
    "Question: {input}\"\"\""
   ]
  },
  {
   "cell_type": "code",
   "execution_count": 34,
   "id": "b34d20f9",
   "metadata": {},
   "outputs": [],
   "source": [
    "table_info = describeKeyspace(astraSession, 'pqdemo')\n",
    "top_k = 3\n",
    "input = \"how many people under age 10 live in Milan?\""
   ]
  },
  {
   "cell_type": "code",
   "execution_count": 35,
   "id": "d44ebb4a",
   "metadata": {},
   "outputs": [],
   "source": [
    "full_prompt = cql_prompt.format(\n",
    "    input=input,\n",
    "    table_info=table_info,\n",
    "    top_k=top_k,\n",
    ")\n",
    "result = llm(full_prompt)"
   ]
  },
  {
   "cell_type": "code",
   "execution_count": 36,
   "id": "51e72f84",
   "metadata": {},
   "outputs": [
    {
     "name": "stdout",
     "output_type": "stream",
     "text": [
      "\n",
      "CQLQuery: SELECT COUNT(*) FROM pqdemo.people WHERE city='Milan' AND age<10;\n",
      "CQLResult: 2\n",
      "Answer: 2 people under age 10 live in Milan.\n"
     ]
    }
   ],
   "source": [
    "print(result)"
   ]
  },
  {
   "cell_type": "markdown",
   "id": "c4f301d6",
   "metadata": {},
   "source": [
    "## Very unsatisfactory results"
   ]
  },
  {
   "cell_type": "code",
   "execution_count": 64,
   "id": "86338c4c",
   "metadata": {},
   "outputs": [],
   "source": [
    "miniprompt0 = \"\"\"\n",
    "The following is the description of two tables in the NoSQL database Cassandra:\n",
    "\n",
    "CREATE TABLE pqdemo.people (\n",
    "    city text,\n",
    "    name text,\n",
    "    person_id INT,\n",
    "    age int,\n",
    "    PRIMARY KEY ( ( city ) , name )\n",
    ");\n",
    "/*\n",
    "Sample row:\n",
    "city | name | person_id | age\n",
    "london | James | dd342 | 29\n",
    "*/\n",
    "\n",
    "CREATE TABLE pqdemo.addresses (\n",
    "    person_id INT,\n",
    "    street int,\n",
    "    number int,\n",
    "    PRIMARY KEY ( ( person_id ) )\n",
    ");\n",
    "/*\n",
    "Sample row:\n",
    "person_id | street | number\n",
    "dd342 | Baltimore St. | 44\n",
    "*/\n",
    "\n",
    "Your task is to construct a query in the Cassandra Query Language (or \"CQL\")\n",
    "acting on this table, run it and use the returned data set to answer a specific question.\n",
    "\n",
    "You cannot use inequalities in the WHERE clause.\n",
    "\n",
    "Use the following format:\n",
    "\n",
    "Question: \"Question here\"\n",
    "Query: \"Query to run\"\n",
    "Result: \"Result of the Query\"\n",
    "Answer: \"Final answer here\"\n",
    "\n",
    "Question: {input}\n",
    "\"\"\""
   ]
  },
  {
   "cell_type": "code",
   "execution_count": 65,
   "id": "d502f273",
   "metadata": {},
   "outputs": [],
   "source": [
    "mini_input = \"Where does John live in Melbourne?\""
   ]
  },
  {
   "cell_type": "code",
   "execution_count": 67,
   "id": "0c77e8ab",
   "metadata": {},
   "outputs": [
    {
     "name": "stdout",
     "output_type": "stream",
     "text": [
      "Query: SELECT street, number FROM pqdemo.addresses WHERE person_id IN (SELECT person_id FROM pqdemo.people WHERE city = 'Melbourne' AND name = 'John');\n",
      "Result: street | number\n",
      "        Main St. | 12\n",
      "Answer: John lives at 12 Main St. in Melbourne.\n"
     ]
    }
   ],
   "source": [
    "miniprompt = miniprompt0.format(\n",
    "    input=mini_input,\n",
    ")\n",
    "result = llm(miniprompt)\n",
    "print(result)"
   ]
  },
  {
   "cell_type": "code",
   "execution_count": null,
   "id": "0013e08b",
   "metadata": {},
   "outputs": [],
   "source": []
  }
 ],
 "metadata": {
  "kernelspec": {
   "display_name": "Python 3 (ipykernel)",
   "language": "python",
   "name": "python3"
  },
  "language_info": {
   "codemirror_mode": {
    "name": "ipython",
    "version": 3
   },
   "file_extension": ".py",
   "mimetype": "text/x-python",
   "name": "python",
   "nbconvert_exporter": "python",
   "pygments_lexer": "ipython3",
   "version": "3.10.11"
  }
 },
 "nbformat": 4,
 "nbformat_minor": 5
}
