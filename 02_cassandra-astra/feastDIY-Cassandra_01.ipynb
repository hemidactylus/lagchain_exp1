{
 "cells": [
  {
   "cell_type": "markdown",
   "id": "cfe48351",
   "metadata": {},
   "source": [
    "# MOVED TO CASSIO WEBSITE"
   ]
  },
  {
   "cell_type": "code",
   "execution_count": null,
   "id": "5a4cf519",
   "metadata": {},
   "outputs": [],
   "source": [
    "from feast import FeatureStore\n",
    "\n",
    "# You may need to update the path depending on where you stored it\n",
    "feast_repo_path = \"../feast_store/user_features/feature_repo/\"\n",
    "store = FeatureStore(repo_path=feast_repo_path)"
   ]
  },
  {
   "cell_type": "markdown",
   "id": "29a04a4d",
   "metadata": {},
   "source": [
    "from langchain.prompts import PromptTemplate, StringPromptTemplate"
   ]
  },
  {
   "cell_type": "code",
   "execution_count": null,
   "id": "3cfd282c",
   "metadata": {},
   "outputs": [],
   "source": [
    "ecommercePrompt = \"\"\"You are a helpful assistant for customers of an e-commerce website.\n",
    "You will give them a suggestion on what to do, based on their profile and pattern of usage so far.\n",
    "The customer information is summarized by the following values:\n",
    "\n",
    "> Customer age:               {age}\n",
    "> Number of purchases so far: {purchases}\n",
    "> Site visits (per month):    {visit_frequency}\n",
    "> Active cart now? (1 = yes): {active_cart}\n",
    "\n",
    "YOUR SUGGESTION: \"\"\""
   ]
  },
  {
   "cell_type": "code",
   "execution_count": null,
   "id": "f371a6ff",
   "metadata": {},
   "outputs": [],
   "source": [
    "ecommercePromptTemplate = PromptTemplate(\n",
    "    template=ecommercePrompt,\n",
    "    input_variables=[\"age\", \"purchases\", \"visit_frequency\", \"active_cart\"]\n",
    ")"
   ]
  },
  {
   "cell_type": "code",
   "execution_count": null,
   "id": "8edd76df",
   "metadata": {},
   "outputs": [],
   "source": [
    "from pydantic import Field\n",
    "\n",
    "class EcommerceUserFeastPromptTemplate(StringPromptTemplate):\n",
    "\n",
    "    promptTemplate: PromptTemplate = Field(exclude=True)\n",
    "    \n",
    "    def format(self, **kwargs) -> str:\n",
    "        user_name = kwargs[\"user_name\"]\n",
    "        feature_vector = store.get_online_features(\n",
    "            features=[\n",
    "                'user_data:age',\n",
    "                'user_data:purchases',\n",
    "                'user_data:visit_frequency',\n",
    "                'active_cart:active_cart'\n",
    "            ],\n",
    "            entity_rows=[{\"user_name\": user_name}]\n",
    "        ).to_dict()\n",
    "        #\n",
    "        prompt_variables = {}\n",
    "        prompt_variables[\"age\"] = feature_vector[\"age\"][0]\n",
    "        prompt_variables[\"purchases\"] = feature_vector[\"purchases\"][0]\n",
    "        prompt_variables[\"visit_frequency\"] = feature_vector[\"visit_frequency\"][0]\n",
    "        prompt_variables[\"active_cart\"] = feature_vector[\"active_cart\"][0]\n",
    "        return self.promptTemplate.format(**prompt_variables)"
   ]
  },
  {
   "cell_type": "code",
   "execution_count": null,
   "id": "59fd4cc8",
   "metadata": {},
   "outputs": [],
   "source": [
    "ecommerceTemplate = EcommerceUserFeastPromptTemplate(\n",
    "    promptTemplate=ecommercePromptTemplate,\n",
    "    input_variables=[\"user_name\"],\n",
    ")"
   ]
  },
  {
   "cell_type": "code",
   "execution_count": null,
   "id": "d8eb8e9e",
   "metadata": {},
   "outputs": [],
   "source": [
    "print(ecommerceTemplate.format(user_name='marilyn'))"
   ]
  }
 ],
 "metadata": {
  "kernelspec": {
   "display_name": "Python 3 (ipykernel)",
   "language": "python",
   "name": "python3"
  },
  "language_info": {
   "codemirror_mode": {
    "name": "ipython",
    "version": 3
   },
   "file_extension": ".py",
   "mimetype": "text/x-python",
   "name": "python",
   "nbconvert_exporter": "python",
   "pygments_lexer": "ipython3",
   "version": "3.10.11"
  }
 },
 "nbformat": 4,
 "nbformat_minor": 5
}
