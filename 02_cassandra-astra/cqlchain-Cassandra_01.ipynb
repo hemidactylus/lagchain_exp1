{
 "cells": [
  {
   "cell_type": "code",
   "execution_count": null,
   "id": "6bc59ae4",
   "metadata": {},
   "outputs": [],
   "source": [
    "from langchain import OpenAI\n",
    "llm = OpenAI(temperature=0)"
   ]
  },
  {
   "cell_type": "code",
   "execution_count": null,
   "id": "10a68994",
   "metadata": {},
   "outputs": [],
   "source": [
    "from CQLDatabaseChain import CQLDatabase, CQLDatabaseChain"
   ]
  },
  {
   "cell_type": "code",
   "execution_count": null,
   "id": "622fb457",
   "metadata": {},
   "outputs": [],
   "source": [
    "from cqlsession import getCqlSession"
   ]
  },
  {
   "cell_type": "code",
   "execution_count": null,
   "id": "1a14070f",
   "metadata": {},
   "outputs": [],
   "source": [
    "astraSession = getCqlSession()"
   ]
  },
  {
   "cell_type": "code",
   "execution_count": null,
   "id": "70b55080",
   "metadata": {},
   "outputs": [],
   "source": [
    "db = CQLDatabase(\n",
    "    astraSession,\n",
    "    'pqdemo',\n",
    "#     ignore_tables = ['base_types', 'coll_test', 'w_counter'],\n",
    "#     include_tables = ['people', 'w_counter'],\n",
    ")"
   ]
  },
  {
   "cell_type": "code",
   "execution_count": null,
   "id": "5452a84b",
   "metadata": {},
   "outputs": [],
   "source": [
    "db_chain = CQLDatabaseChain.from_llm(llm, db, verbose=True)"
   ]
  },
  {
   "cell_type": "code",
   "execution_count": null,
   "id": "db413b3a",
   "metadata": {},
   "outputs": [],
   "source": [
    "# db_chain.run(\"How many people live in milan?\")\n",
    "# db_chain.run(\"Are there people living in milan ?\")\n",
    "db_chain.run(\"Are there folks living in barcelona ?\")\n",
    "# db_chain.run(\"What is the average temperature on Saturn ?\")"
   ]
  },
  {
   "cell_type": "code",
   "execution_count": null,
   "id": "f5a752cf",
   "metadata": {},
   "outputs": [],
   "source": [
    "###"
   ]
  },
  {
   "cell_type": "code",
   "execution_count": null,
   "id": "c17e0d19",
   "metadata": {},
   "outputs": [],
   "source": [
    "from typing import Any, Dict, List, Optional\n",
    "\n",
    "from langchain.chains.llm import LLMChain\n",
    "from langchain.chains.base import Chain\n",
    "from langchain.chains.sql_database.prompt import DECIDER_PROMPT\n",
    "from langchain.base_language import BaseLanguageModel\n",
    "from langchain.prompts.base import BasePromptTemplate\n",
    "from langchain.chains import SQLDatabaseSequentialChain\n",
    "#\n",
    "from CQLDatabaseChain import CQL_PROMPT\n",
    "\n",
    "\n",
    "class CQLDatabaseSequentialChain(SQLDatabaseSequentialChain):\n",
    "    \"\"\"CQL variant.\"\"\"\n",
    "\n",
    "    decider_chain: LLMChain\n",
    "    sql_chain: CQLDatabaseChain\n",
    "    input_key: str = \"query\"  #: :meta private:\n",
    "    output_key: str = \"result\"  #: :meta private:\n",
    "    return_intermediate_steps: bool = False\n",
    "\n",
    "    @classmethod\n",
    "    def from_llm(\n",
    "        cls,\n",
    "        llm: BaseLanguageModel,\n",
    "        database: CQLDatabase,\n",
    "        query_prompt: BasePromptTemplate = CQL_PROMPT,\n",
    "        decider_prompt: BasePromptTemplate = DECIDER_PROMPT,\n",
    "        **kwargs: Any,\n",
    "    ):\n",
    "        \"\"\"Load the necessary chains.\"\"\"\n",
    "        sql_chain = CQLDatabaseChain(\n",
    "            llm=llm, database=database, prompt=query_prompt, **kwargs\n",
    "        )\n",
    "        decider_chain = LLMChain(\n",
    "            llm=llm, prompt=decider_prompt, output_key=\"table_names\"\n",
    "        )\n",
    "        return cls(sql_chain=sql_chain, decider_chain=decider_chain, **kwargs)\n"
   ]
  },
  {
   "cell_type": "code",
   "execution_count": null,
   "id": "b6602985",
   "metadata": {},
   "outputs": [],
   "source": [
    "chain = SQLDatabaseSequentialChain.from_llm(llm, db, verbose=True)"
   ]
  },
  {
   "cell_type": "code",
   "execution_count": null,
   "id": "5338ba7b",
   "metadata": {},
   "outputs": [],
   "source": [
    "chain.run(\"How many people live in madrid ?\")"
   ]
  }
 ],
 "metadata": {
  "kernelspec": {
   "display_name": "Python 3 (ipykernel)",
   "language": "python",
   "name": "python3"
  },
  "language_info": {
   "codemirror_mode": {
    "name": "ipython",
    "version": 3
   },
   "file_extension": ".py",
   "mimetype": "text/x-python",
   "name": "python",
   "nbconvert_exporter": "python",
   "pygments_lexer": "ipython3",
   "version": "3.10.11"
  }
 },
 "nbformat": 4,
 "nbformat_minor": 5
}
