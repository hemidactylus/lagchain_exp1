{
 "cells": [
  {
   "cell_type": "code",
   "execution_count": null,
   "id": "fb0da126",
   "metadata": {},
   "outputs": [],
   "source": [
    "# Open AI\n",
    "# from langchain.llms import OpenAI\n",
    "# llm = OpenAI(temperature=0)"
   ]
  },
  {
   "cell_type": "code",
   "execution_count": null,
   "id": "6bc59ae4",
   "metadata": {},
   "outputs": [],
   "source": [
    "# Google VertexAI\n",
    "from googleVertexLLM import googleVertexAILLM\n",
    "llm = googleVertexAILLM()"
   ]
  },
  {
   "cell_type": "code",
   "execution_count": null,
   "id": "10a68994",
   "metadata": {},
   "outputs": [],
   "source": [
    "from CQLDatabaseChain import CQLDatabase, CQLDatabaseChain"
   ]
  },
  {
   "cell_type": "code",
   "execution_count": null,
   "id": "622fb457",
   "metadata": {},
   "outputs": [],
   "source": [
    "from cqlsession import getCqlSession"
   ]
  },
  {
   "cell_type": "code",
   "execution_count": null,
   "id": "1a14070f",
   "metadata": {},
   "outputs": [],
   "source": [
    "astraSession = getCqlSession()"
   ]
  },
  {
   "cell_type": "code",
   "execution_count": null,
   "id": "70b55080",
   "metadata": {},
   "outputs": [],
   "source": [
    "db = CQLDatabase(\n",
    "    astraSession,\n",
    "    'pqdemo',\n",
    "    ignore_tables = ['base_types', 'coll_test', 'w_counter', 'pqdata'],\n",
    "#     include_tables = ['people', 'w_counter'],\n",
    ")"
   ]
  },
  {
   "cell_type": "code",
   "execution_count": null,
   "id": "5452a84b",
   "metadata": {},
   "outputs": [],
   "source": [
    "db_chain = CQLDatabaseChain.from_llm(llm, db, verbose=True)"
   ]
  },
  {
   "cell_type": "code",
   "execution_count": null,
   "id": "db413b3a",
   "metadata": {},
   "outputs": [],
   "source": [
    "# db_chain.run(\"How many people live in milan?\")\n",
    "# db_chain.run(\"Are there people living in milan ?\")\n",
    "# db_chain.run(\"Are there folks living in barcelona ?\")\n",
    "# db_chain.run(\"What is the average temperature on Saturn ?\")\n",
    "\n",
    "db_chain.run(\"are there people in milan older than 10 years?\")\n"
   ]
  },
  {
   "cell_type": "markdown",
   "id": "cb537f52",
   "metadata": {},
   "source": [
    "# Sequential chain (fancy name for: first find the table, then query it)"
   ]
  },
  {
   "cell_type": "code",
   "execution_count": null,
   "id": "c17e0d19",
   "metadata": {},
   "outputs": [],
   "source": [
    "from CQLDatabaseChain import CQLDatabaseSequentialChain"
   ]
  },
  {
   "cell_type": "code",
   "execution_count": null,
   "id": "b6602985",
   "metadata": {},
   "outputs": [],
   "source": [
    "chain = CQLDatabaseSequentialChain.from_llm(llm, db, verbose=True)"
   ]
  },
  {
   "cell_type": "code",
   "execution_count": null,
   "id": "5338ba7b",
   "metadata": {},
   "outputs": [],
   "source": [
    "chain.run(\"How many people live in thebigcity?\")"
   ]
  }
 ],
 "metadata": {
  "kernelspec": {
   "display_name": "Python 3 (ipykernel)",
   "language": "python",
   "name": "python3"
  },
  "language_info": {
   "codemirror_mode": {
    "name": "ipython",
    "version": 3
   },
   "file_extension": ".py",
   "mimetype": "text/x-python",
   "name": "python",
   "nbconvert_exporter": "python",
   "pygments_lexer": "ipython3",
   "version": "3.10.11"
  }
 },
 "nbformat": 4,
 "nbformat_minor": 5
}
