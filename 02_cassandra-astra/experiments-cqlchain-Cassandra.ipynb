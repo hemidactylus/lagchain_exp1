{
 "cells": [
  {
   "cell_type": "markdown",
   "id": "fa210cf3",
   "metadata": {},
   "source": [
    "# Experiments with CQL-adapted prompts"
   ]
  },
  {
   "cell_type": "code",
   "execution_count": 1,
   "id": "7aff4d78",
   "metadata": {},
   "outputs": [],
   "source": [
    "from langchain import OpenAI"
   ]
  },
  {
   "cell_type": "code",
   "execution_count": 2,
   "id": "1b289773",
   "metadata": {},
   "outputs": [],
   "source": [
    "llm = OpenAI(temperature=0)"
   ]
  },
  {
   "cell_type": "markdown",
   "id": "e121f85c",
   "metadata": {},
   "source": [
    "### we get a Cassandra session"
   ]
  },
  {
   "cell_type": "code",
   "execution_count": 3,
   "id": "eee3b1ff",
   "metadata": {},
   "outputs": [],
   "source": [
    "# This is where the session is created to later pass it to the CassandraCache\n",
    "import os\n",
    "from dotenv import load_dotenv\n",
    "from cassandra.cluster import Cluster\n",
    "from cassandra.auth import PlainTextAuthProvider\n",
    "\n",
    "load_dotenv()\n",
    "\n",
    "ASTRA_DB_SECURE_BUNDLE_PATH = os.environ[\"ASTRA_DB_SECURE_BUNDLE_PATH\"]\n",
    "ASTRA_DB_CLIENT_ID = \"token\"\n",
    "ASTRA_DB_APPLICATION_TOKEN = os.environ[\"ASTRA_DB_APPLICATION_TOKEN\"]\n",
    "\n",
    "cluster = Cluster(\n",
    "    cloud={\n",
    "        \"secure_connect_bundle\": ASTRA_DB_SECURE_BUNDLE_PATH,\n",
    "    },\n",
    "    auth_provider=PlainTextAuthProvider(\n",
    "        ASTRA_DB_CLIENT_ID,\n",
    "        ASTRA_DB_APPLICATION_TOKEN,\n",
    "    ),\n",
    ")\n",
    "astraSession = cluster.connect()"
   ]
  },
  {
   "cell_type": "markdown",
   "id": "31dbe04a",
   "metadata": {},
   "source": [
    "### We create a table_info"
   ]
  },
  {
   "cell_type": "code",
   "execution_count": 51,
   "id": "3188698b",
   "metadata": {},
   "outputs": [],
   "source": [
    "# Keyspace descriptor\n",
    "def _desc_col(col):\n",
    "    return f'{col.name} {col.cql_type}{\" static\" if col.is_static else \"\"}'\n",
    "\n",
    "def _desc_cols(tab):\n",
    "    return '\\n'.join('    %s,' % _desc_col(tb) for _, tb in tab.columns.items())\n",
    "\n",
    "def _desc_pk(tab):\n",
    "    partk_spec = ' , '.join([col.name for col in tab.partition_key])\n",
    "    clustering_spec = ' , '.join([col.name for col in tab.clustering_key])\n",
    "    return f'    PRIMARY KEY ( ( {partk_spec} ) , {clustering_spec} )'\n",
    "\n",
    "CREATE_TABLE_TEMPLATE = \"\"\"CREATE TABLE {keyspace_name}.{table_name} (\n",
    "{columns}\n",
    "{primary_key}\n",
    ");\"\"\"\n",
    "\n",
    "def _desc_tab(tab):\n",
    "    return CREATE_TABLE_TEMPLATE.format(\n",
    "        keyspace_name=tab.keyspace_name,\n",
    "        table_name=tab.name,\n",
    "        columns=_desc_cols(tab),\n",
    "        primary_key=_desc_pk(tab),\n",
    "    )\n",
    "\n",
    "def describeKeyspace(session, keyspace):\n",
    "    return '\\n\\n'.join(\n",
    "        _desc_tab(tab)\n",
    "        for _, tab in session.cluster.metadata.keyspaces[keyspace].tables.items()\n",
    "    )"
   ]
  },
  {
   "cell_type": "code",
   "execution_count": 75,
   "id": "b4d20908",
   "metadata": {},
   "outputs": [
    {
     "name": "stdout",
     "output_type": "stream",
     "text": [
      "CREATE TABLE pqdemo.base_types (\n",
      "    key_text text,\n",
      "    col_ascii ascii,\n",
      "    col_bigint bigint,\n",
      "    col_blob blob,\n",
      "    col_boolean boolean,\n",
      "    col_date date,\n",
      "    col_decimal decimal,\n",
      "    col_double double,\n",
      "    col_float float,\n",
      "    col_inet inet,\n",
      "    col_int int,\n",
      "    col_smallint smallint,\n",
      "    col_text text,\n",
      "    col_time time,\n",
      "    col_timestamp timestamp,\n",
      "    col_timeuuid timeuuid,\n",
      "    col_tinyint tinyint,\n",
      "    col_uuid uuid,\n",
      "    col_varchar text,\n",
      "    col_varint varint,\n",
      "    PRIMARY KEY ( ( key_text ) ,  )\n",
      ");\n",
      "\n",
      "CREATE TABLE pqdemo.coll_test (\n",
      "    k text,\n",
      "    los list<text>,\n",
      "    sos set<int>,\n",
      "    PRIMARY KEY ( ( k ) ,  )\n",
      ");\n",
      "\n",
      "CREATE TABLE pqdemo.pqdata (\n",
      "    city text,\n",
      "    name text,\n",
      "    age int,\n",
      "    PRIMARY KEY ( ( city ) , name )\n",
      ");\n",
      "\n",
      "CREATE TABLE pqdemo.w_counter (\n",
      "    k text,\n",
      "    c counter,\n",
      "    PRIMARY KEY ( ( k ) ,  )\n",
      ");\n",
      "\n",
      "CREATE TABLE pqdemo.people (\n",
      "    city text,\n",
      "    name text,\n",
      "    age int,\n",
      "    PRIMARY KEY ( ( city ) , name )\n",
      ");\n"
     ]
    }
   ],
   "source": [
    "print(describeKeyspace(astraSession, 'pqdemo'))"
   ]
  },
  {
   "cell_type": "markdown",
   "id": "6c2d1e74",
   "metadata": {},
   "source": [
    "## Experiments with prompts"
   ]
  },
  {
   "cell_type": "code",
   "execution_count": 121,
   "id": "b7cab166",
   "metadata": {},
   "outputs": [],
   "source": [
    "cql_prompt = \"\"\"You are a Cassandra CQL expert. Given an input question,\n",
    "first create a syntactically correct CQL query to run,\n",
    "then look at the results of the query and return the answer to the input question.\n",
    "Unless the user specifies in the question a specific number of examples to obtain,\n",
    "query for at most {top_k} results using the LIMIT clause as per CQL.\n",
    "Never query for all columns from a table.\n",
    "CQL queries must always specify equalities for the partition key values in the WHERE clause.\n",
    "If this is impossible, refuse to execute the query.\n",
    "You must query only the columns that are needed to answer the question.\n",
    "Wrap each column name in double quotes (\") to denote them as delimited identifiers.\n",
    "Pay attention to use only the column names you can see in the tables below.\n",
    "Be careful to not query for columns that do not exist.\n",
    "Also, pay attention to which column is in which table.\n",
    "Remember that CQL statement must end with a semicolon (;).\n",
    "\n",
    "The query cannot contain the ORDER BY clause.\n",
    "\n",
    "Use the following format:\n",
    "\n",
    "Question: \"Question here\"\n",
    "CQLQuery: \"CQL Query to run\"\n",
    "CQLResult: \"Result of the CQLQuery\"\n",
    "Answer: \"Final answer here\"\n",
    "\n",
    "Only use the following tables:\n",
    "{table_info}\n",
    "\n",
    "The last line in each CREATE TABLE statement is of the form \"PRIMARY KEY ( (partition keys), clustering columns)\"\n",
    "\n",
    "Question: {input}\"\"\""
   ]
  },
  {
   "cell_type": "code",
   "execution_count": 129,
   "id": "0b94a11c",
   "metadata": {},
   "outputs": [],
   "source": [
    "table_info = describeKeyspace(astraSession, 'pqdemo')\n",
    "top_k = 3\n",
    "input = \"how many people live in \""
   ]
  },
  {
   "cell_type": "code",
   "execution_count": 130,
   "id": "adb55b32",
   "metadata": {},
   "outputs": [],
   "source": [
    "full_prompt = cql_prompt.format(\n",
    "    input=input,\n",
    "    table_info=table_info,\n",
    "    top_k=top_k,\n",
    ")\n",
    "result = llm(full_prompt)"
   ]
  },
  {
   "cell_type": "code",
   "execution_count": 131,
   "id": "9a64eb75",
   "metadata": {},
   "outputs": [
    {
     "name": "stdout",
     "output_type": "stream",
     "text": [
      "\n",
      "CQLQuery: SELECT name FROM pqdemo.people WHERE age >= 14 AND age <= 20;\n",
      "CQLResult: \n",
      "name\n",
      "John\n",
      "Mary\n",
      "Bob\n",
      "Answer: John, Mary, Bob\n"
     ]
    }
   ],
   "source": [
    "print(result)"
   ]
  },
  {
   "cell_type": "code",
   "execution_count": null,
   "id": "bcaf4d4f",
   "metadata": {},
   "outputs": [],
   "source": []
  }
 ],
 "metadata": {
  "kernelspec": {
   "display_name": "Python 3 (ipykernel)",
   "language": "python",
   "name": "python3"
  },
  "language_info": {
   "codemirror_mode": {
    "name": "ipython",
    "version": 3
   },
   "file_extension": ".py",
   "mimetype": "text/x-python",
   "name": "python",
   "nbconvert_exporter": "python",
   "pygments_lexer": "ipython3",
   "version": "3.10.11"
  }
 },
 "nbformat": 4,
 "nbformat_minor": 5
}
