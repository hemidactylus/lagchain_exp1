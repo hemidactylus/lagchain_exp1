{
 "cells": [
  {
   "cell_type": "code",
   "execution_count": null,
   "id": "55677661",
   "metadata": {},
   "outputs": [],
   "source": [
    "from langchain import PromptTemplate"
   ]
  },
  {
   "cell_type": "markdown",
   "id": "2fee3b2f",
   "metadata": {},
   "source": [
    "## Partialing a prompt template and injecting values\n",
    "\n",
    "We can pass `key=value` keyword arguments to fill (partially if desired) the prompt to refine the template,\n",
    "until the final `format` call.\n",
    "\n",
    "We can also pass a function that dynamically provides the values to fill the template (see below)"
   ]
  },
  {
   "cell_type": "code",
   "execution_count": null,
   "id": "12dc4971",
   "metadata": {},
   "outputs": [],
   "source": [
    "template = \"\"\"You are a support assistant users of an accounting software product called MagicContability.\n",
    "Your answers should be adapted to the description of the user given below.\n",
    "In particular, ONLY IF the user is not a paying user you can try to suggest,\n",
    "when appropriate, to switch to the paid plan.\n",
    "\n",
    "- the user's favorite programming language is {user_language}\n",
    "- does the user have a paid plan? {paid_plan}\n",
    "- does the user prefer an informal communication style? {informal_style}\n",
    "\n",
    "Here is the user's question: \"{user_question}\"\n",
    "YOUR ANSWER:\n",
    "\"\"\""
   ]
  },
  {
   "cell_type": "code",
   "execution_count": null,
   "id": "d1396733",
   "metadata": {},
   "outputs": [],
   "source": [
    "user_data = {\n",
    "    'user_language': 'Javascript',\n",
    "    'paid_plan': 'NO',\n",
    "    'informal_style': 'YES',\n",
    "}\n",
    "user_question = \"Is P equal to NP?\""
   ]
  },
  {
   "cell_type": "code",
   "execution_count": null,
   "id": "a1d776d6",
   "metadata": {},
   "outputs": [],
   "source": [
    "prompt1 = PromptTemplate(\n",
    "    template=template,\n",
    "    input_variables=[\"user_language\", \"paid_plan\", \"informal_style\", \"user_question\"],\n",
    ")\n",
    "# Here the idea is that three of the above would come from DB lookup once user ID is known, the last one is 'live'\n",
    "partial_prompt1 = prompt1.partial(**user_data)"
   ]
  },
  {
   "cell_type": "code",
   "execution_count": null,
   "id": "d4bdc6ef",
   "metadata": {},
   "outputs": [],
   "source": [
    "print(partial_prompt1.format(user_question=user_question))"
   ]
  },
  {
   "cell_type": "markdown",
   "id": "fb2a0c9b",
   "metadata": {},
   "source": [
    "#### Alternative way to partial"
   ]
  },
  {
   "cell_type": "code",
   "execution_count": null,
   "id": "b67dddd4",
   "metadata": {},
   "outputs": [],
   "source": [
    "prompt2 = PromptTemplate(\n",
    "    template=template,\n",
    "    input_variables=[\"user_question\"],\n",
    "    partial_variables=user_data,\n",
    ")\n",
    "print(prompt2.format(user_question=user_question))"
   ]
  },
  {
   "cell_type": "markdown",
   "id": "3d8a7aee",
   "metadata": {},
   "source": [
    "#### Partialing with functions\n",
    "\n",
    "The limitations is that it's not clear how to handle dependency injection (e.g. a DB connection or even more a user ID for lookup) in the function"
   ]
  },
  {
   "cell_type": "code",
   "execution_count": null,
   "id": "55ada78e",
   "metadata": {},
   "outputs": [],
   "source": [
    "prompt3 = PromptTemplate(\n",
    "    template=template,\n",
    "    input_variables=[\"user_language\", \"paid_plan\", \"informal_style\", \"user_question\"],\n",
    ")\n",
    "\n",
    "# 'getters'\n",
    "def _get_user_language(): return 'Python'\n",
    "def _get_paid_plan(): return 'YES'\n",
    "def _get_informal_style(): return 'NO'\n",
    "\n",
    "partial_prompt3 = prompt3.partial(\n",
    "    user_language=_get_user_language,\n",
    "    paid_plan=_get_paid_plan,\n",
    "    informal_style=_get_informal_style\n",
    ")"
   ]
  },
  {
   "cell_type": "code",
   "execution_count": null,
   "id": "b9e08cd7",
   "metadata": {},
   "outputs": [],
   "source": [
    "print(partial_prompt3.format(user_question=user_question))"
   ]
  },
  {
   "cell_type": "markdown",
   "id": "f9280e00",
   "metadata": {},
   "source": [
    "#### Or inline partialing"
   ]
  },
  {
   "cell_type": "code",
   "execution_count": null,
   "id": "645a8d9d",
   "metadata": {},
   "outputs": [],
   "source": [
    "# 'getters'\n",
    "def _get_user_language(): return 'Erlang'\n",
    "def _get_paid_plan(): return 'NO'\n",
    "def _get_informal_style(): return 'NO'\n",
    "\n",
    "prompt4 = PromptTemplate(\n",
    "    template=template,\n",
    "    input_variables=[\"user_question\"],\n",
    "    partial_variables={\n",
    "        'user_language': _get_user_language,\n",
    "        'paid_plan': _get_paid_plan,\n",
    "        'informal_style': _get_informal_style,\n",
    "    },\n",
    ")"
   ]
  },
  {
   "cell_type": "code",
   "execution_count": null,
   "id": "629a25f7",
   "metadata": {},
   "outputs": [],
   "source": [
    "print(prompt4.format(user_question=user_question))"
   ]
  },
  {
   "cell_type": "markdown",
   "id": "fbaa41c3",
   "metadata": {},
   "source": [
    "## Dependencies and/or richer parameters to \"getters\"\n",
    "\n",
    "Little experiments to see if a DB-related partialing is somehow possible:\n",
    "- injecting a DB dependency into the \"getters\"\n",
    "- ability to pass parameters to the getters (e.g. \"user_id\") to pick the values for the prompt\n",
    "- interaction with partialing"
   ]
  },
  {
   "cell_type": "markdown",
   "id": "a0e40c7f",
   "metadata": {},
   "source": [
    "#### With the prompt templates"
   ]
  },
  {
   "cell_type": "code",
   "execution_count": null,
   "id": "51e9a958",
   "metadata": {},
   "outputs": [],
   "source": [
    "dtemplate = \"\"\"You are helping a user.\n",
    "The user has name \"{user_name}\" and support level \"{support_level}\".\n",
    "\n",
    "Try to answer his question.\n",
    "USER'S QUESTION: {user_question}\n",
    "YOUR ANSWER:\n",
    "\"\"\""
   ]
  },
  {
   "cell_type": "code",
   "execution_count": null,
   "id": "dc9ac205",
   "metadata": {},
   "outputs": [],
   "source": [
    "# 'getters'\n",
    "def _get_user_name(user_id): return 'John %s' % user_id\n",
    "def _get_support_level(user_id): return 'SUPPT_%s' % user_id\n",
    "\n",
    "dprompt1 = PromptTemplate(\n",
    "    template=dtemplate,\n",
    "    input_variables=[\"user_question\"],\n",
    "    partial_variables={\n",
    "        'user_name': _get_user_name,\n",
    "        'support_level': _get_support_level,\n",
    "    },\n",
    ")"
   ]
  },
  {
   "cell_type": "markdown",
   "id": "64d28bda",
   "metadata": {},
   "source": [
    "This is impossible, as can be seen by the `v()` [here](https://github.com/hwchase17/langchain/blob/206c87d5255687856401c94bcc2c324c5daacac4/langchain/prompts/base.py#L159)"
   ]
  },
  {
   "cell_type": "code",
   "execution_count": null,
   "id": "447dfea2",
   "metadata": {},
   "outputs": [],
   "source": [
    "print(dprompt1.format(user_question='What is life?', user_id='usr001'))"
   ]
  },
  {
   "cell_type": "markdown",
   "id": "0cea945d",
   "metadata": {},
   "source": [
    "Same route to explicitly call `partial()`"
   ]
  },
  {
   "cell_type": "code",
   "execution_count": null,
   "id": "2343b00a",
   "metadata": {},
   "outputs": [],
   "source": [
    "dprompt2 = PromptTemplate(\n",
    "    template=dtemplate,\n",
    "    input_variables=[\"user_question\", \"support_level\", \"user_name\"],\n",
    ")\n",
    "\n",
    "# 'getters'\n",
    "def _get_user_name(user_id): return 'John %s' % user_id\n",
    "def _get_support_level(user_id): return 'SUPPT_%s' % user_id\n",
    "\n",
    "partial_dprompt2 = dprompt2.partial(\n",
    "    user_name=_get_user_name,\n",
    "    support_level=_get_support_level,\n",
    ")\n",
    "\n",
    "print(partial_dprompt2.format(user_question='What is life?', user_id='usr001'))"
   ]
  },
  {
   "cell_type": "markdown",
   "id": "f26b1c69",
   "metadata": {},
   "source": [
    "## Creating a custom prompt template\n",
    "\n",
    "This seems to be the way. [Reference](https://python.langchain.com/en/latest/modules/prompts/prompt_templates/examples/custom_prompt_template.html#)."
   ]
  },
  {
   "cell_type": "code",
   "execution_count": null,
   "id": "4e5ae20f",
   "metadata": {},
   "outputs": [],
   "source": [
    "# from cassandra.cluster import Session"
   ]
  },
  {
   "cell_type": "code",
   "execution_count": null,
   "id": "6a9f7a2b",
   "metadata": {},
   "outputs": [],
   "source": [
    "from DependencyfulPromptTemplate import DependencyfulPromptTemplate"
   ]
  },
  {
   "cell_type": "code",
   "execution_count": null,
   "id": "50782635",
   "metadata": {},
   "outputs": [],
   "source": [
    "def _dep_get_user_name(db, user_id): return 'John %s (from %s)' % (user_id, db)\n",
    "def _dep_get_support_level(db, user_id): return 'SUPPT_%s (from %s)' % (user_id, db)\n",
    "\n",
    "def myGetter(deps, user_id):\n",
    "    db = deps['db']\n",
    "    return {\n",
    "        'user_name': _dep_get_user_name(db, user_id),\n",
    "        'support_level': _dep_get_support_level(db, user_id),\n",
    "    }\n",
    "\n",
    "promptx = DependencyfulPromptTemplate(\n",
    "    template=dtemplate,\n",
    "    dependencies={'db': 'myDatabase'},\n",
    "    getter=myGetter,\n",
    "    input_variables=[\"user_question\", \"support_level\", \"user_name\"],\n",
    ")\n",
    "\n",
    "resultx = promptx.format(\n",
    "    user_id='USR01',\n",
    "    user_question='What is love?',\n",
    ")\n",
    "print(resultx)"
   ]
  },
  {
   "cell_type": "markdown",
   "id": "f9f323e2",
   "metadata": {},
   "source": [
    "#### Partialing of the above\n",
    "\n",
    "Since all invocations are deferred to the end anyway, it is possible to leverage the general `partial` mechanism by langchain."
   ]
  },
  {
   "cell_type": "code",
   "execution_count": null,
   "id": "aa8aa5bc",
   "metadata": {},
   "outputs": [],
   "source": [
    "partial_promptx1 = promptx.partial(user_id='00aaa')\n",
    "print(partial_promptx1.format(\n",
    "    user_question='Quid?',\n",
    "))"
   ]
  },
  {
   "cell_type": "code",
   "execution_count": null,
   "id": "f418b8ed",
   "metadata": {},
   "outputs": [],
   "source": [
    "partial_promptx1 = promptx.partial(user_question='What do I do?')\n",
    "print(partial_promptx1.format(\n",
    "    user_id='u444',\n",
    "))"
   ]
  },
  {
   "cell_type": "code",
   "execution_count": null,
   "id": "29da1183",
   "metadata": {},
   "outputs": [],
   "source": [
    "partial_promptx1 = promptx.partial(\n",
    "    user_id='baba000',\n",
    "    user_question='How come?',\n",
    ")\n",
    "print(partial_promptx1.format())"
   ]
  },
  {
   "cell_type": "markdown",
   "id": "fd8a8333",
   "metadata": {},
   "source": [
    "## Specializing the custom prompt template class into a CassandraDependencyTemplate\n",
    "\n",
    "- dependencies are the DB Session and the keyspace\n",
    "- placeholder variables in templates can refer to a mapping from their name to either (a) (table, column) or (b) (table, function(row))\n",
    "- several tables can be queried if necessary, with schema inspection to properly restrict the where clause. They are supposed to return at least one row, the first is chosen if more than one"
   ]
  },
  {
   "cell_type": "code",
   "execution_count": null,
   "id": "4eb911d3",
   "metadata": {},
   "outputs": [],
   "source": [
    "from cassandraPromptTemplate import createCassandraPromptTemplate"
   ]
  },
  {
   "cell_type": "code",
   "execution_count": null,
   "id": "0effcaa1",
   "metadata": {},
   "outputs": [],
   "source": [
    "from cqlsession import getCqlSession\n",
    "astraSession = getCqlSession()"
   ]
  },
  {
   "cell_type": "code",
   "execution_count": null,
   "id": "56efd6fe",
   "metadata": {},
   "outputs": [],
   "source": [
    "ctemplate0 = \"\"\"Please answer a question from a user.\n",
    "Keep in mind that the user's age is {user_age} and they live in a city with\n",
    "nickname {city_nickname}.\n",
    "\n",
    "USER'S QUESTION: {user_question}\n",
    "YOUR ANSWER:\n",
    "\"\"\""
   ]
  },
  {
   "cell_type": "code",
   "execution_count": null,
   "id": "18d4db4c",
   "metadata": {},
   "outputs": [],
   "source": [
    "cassPrompt = createCassandraPromptTemplate(\n",
    "    session=astraSession,\n",
    "    keyspace='pqdemo',\n",
    "    template=ctemplate0,\n",
    "    input_variables=['city', 'name', 'user_question'],\n",
    "    field_mapper={\n",
    "        'user_age': ('people', 'age'),\n",
    "        'city_nickname': ('nickname_by_city', 'nickname'),\n",
    "    },\n",
    ")"
   ]
  },
  {
   "cell_type": "code",
   "execution_count": null,
   "id": "d92713db",
   "metadata": {},
   "outputs": [],
   "source": [
    "print(cassPrompt.format(city='turin', name='beppe', user_question='Is functional programming fun?'))"
   ]
  },
  {
   "cell_type": "code",
   "execution_count": null,
   "id": "313024c1",
   "metadata": {},
   "outputs": [],
   "source": [
    "cassPartialPrompt = cassPrompt.partial(city='lisbon', name='Pedro')"
   ]
  },
  {
   "cell_type": "code",
   "execution_count": null,
   "id": "8dbcbdde",
   "metadata": {},
   "outputs": [],
   "source": [
    "print(cassPartialPrompt.format(user_question='Em verdade, o que quiseres?'))"
   ]
  },
  {
   "cell_type": "markdown",
   "id": "7ed18d76",
   "metadata": {},
   "source": [
    "### Pretty cool, eh?\n",
    "\n",
    "Alternatively, functions of a `Row` object can be passed in place of column names:"
   ]
  },
  {
   "cell_type": "code",
   "execution_count": null,
   "id": "223da679",
   "metadata": {},
   "outputs": [],
   "source": [
    "cassPromptF = createCassandraPromptTemplate(\n",
    "    session=astraSession,\n",
    "    keyspace='pqdemo',\n",
    "    template=ctemplate0,\n",
    "    input_variables=['city', 'name', 'user_question'],\n",
    "    field_mapper={\n",
    "        'user_age': ('people', lambda row: row.age * 1000),\n",
    "        'city_nickname': ('nickname_by_city', lambda row: '%s (%s)' % (row.nickname.upper(), row.city)),\n",
    "    },\n",
    ")"
   ]
  },
  {
   "cell_type": "code",
   "execution_count": null,
   "id": "7d5c6b47",
   "metadata": {},
   "outputs": [],
   "source": [
    "print(cassPromptF.format(city='liverpool', name='Vivian', user_question='Is functional programming fun?'))"
   ]
  }
 ],
 "metadata": {
  "kernelspec": {
   "display_name": "Python 3 (ipykernel)",
   "language": "python",
   "name": "python3"
  },
  "language_info": {
   "codemirror_mode": {
    "name": "ipython",
    "version": 3
   },
   "file_extension": ".py",
   "mimetype": "text/x-python",
   "name": "python",
   "nbconvert_exporter": "python",
   "pygments_lexer": "ipython3",
   "version": "3.10.11"
  }
 },
 "nbformat": 4,
 "nbformat_minor": 5
}
