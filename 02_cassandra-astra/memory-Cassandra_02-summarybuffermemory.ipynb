{
 "cells": [
  {
   "cell_type": "code",
   "execution_count": null,
   "id": "903b3861",
   "metadata": {},
   "outputs": [],
   "source": [
    "from langchain.memory import ConversationSummaryBufferMemory\n",
    "from langchain import OpenAI\n",
    "from langchain.chains import ConversationChain\n",
    "# from langchain import LLMChain, PromptTemplate"
   ]
  },
  {
   "cell_type": "code",
   "execution_count": null,
   "id": "3f392004",
   "metadata": {},
   "outputs": [],
   "source": [
    "llm = OpenAI()"
   ]
  },
  {
   "cell_type": "code",
   "execution_count": null,
   "id": "dca5059c",
   "metadata": {},
   "outputs": [],
   "source": [
    "# Cassandra session, move along\n",
    "from cqlsession import getCqlSession\n",
    "astraSession = getCqlSession()"
   ]
  },
  {
   "cell_type": "code",
   "execution_count": null,
   "id": "b2b86123",
   "metadata": {},
   "outputs": [],
   "source": [
    "from CassandraChatMessageHistory import CassandraChatMessageHistory"
   ]
  },
  {
   "cell_type": "code",
   "execution_count": null,
   "id": "7afe8de2",
   "metadata": {},
   "outputs": [],
   "source": [
    "# Cassandra chat message history\n",
    "message_history = CassandraChatMessageHistory(\n",
    "    session_id='zzz000',\n",
    "    session=astraSession,\n",
    "    keyspace='langchain',\n",
    "    ttl_seconds = 3600,\n",
    ")\n",
    "message_history.clear()\n",
    "\n",
    "memory = ConversationSummaryBufferMemory(llm=llm, chat_memory=message_history, max_token_limit=40)"
   ]
  },
  {
   "cell_type": "code",
   "execution_count": null,
   "id": "e28ddc60",
   "metadata": {},
   "outputs": [],
   "source": [
    "summaryConversation = ConversationChain(\n",
    "    llm=llm, \n",
    "    memory=memory,\n",
    "    verbose=True\n",
    ")"
   ]
  },
  {
   "cell_type": "code",
   "execution_count": null,
   "id": "72aadf7f",
   "metadata": {},
   "outputs": [],
   "source": [
    "summaryConversation.predict(input='Tell me about William Tell')"
   ]
  },
  {
   "cell_type": "code",
   "execution_count": null,
   "id": "173fa4f3",
   "metadata": {},
   "outputs": [],
   "source": [
    "summaryConversation.predict(input=\"Any relation to the apple from Cupertino?\")"
   ]
  },
  {
   "cell_type": "code",
   "execution_count": null,
   "id": "16bbfb27",
   "metadata": {},
   "outputs": [],
   "source": [
    "summaryConversation.predict(input=\"I heard the two apples may be in fact the very same fruit.\")"
   ]
  },
  {
   "cell_type": "code",
   "execution_count": null,
   "id": "0bc00892",
   "metadata": {},
   "outputs": [],
   "source": [
    "# manual invocation\n",
    "messages = memory.chat_memory.messages\n",
    "previous_summary = \"\"\"The human asks what the AI knows about William Tell.\n",
    "The AI responds that William Tell was a legendary Swiss folk hero who lived in the early 14th\n",
    "century and was an expert marksman. He is most famously known for shooting an apple off his\n",
    "son's head in order to defy the local Austrian governor, Hermann Gessler.\"\"\"\n",
    "print(memory.predict_new_summary(messages, previous_summary))"
   ]
  },
  {
   "cell_type": "code",
   "execution_count": null,
   "id": "4c8a8760",
   "metadata": {},
   "outputs": [],
   "source": []
  }
 ],
 "metadata": {
  "kernelspec": {
   "display_name": "Python 3 (ipykernel)",
   "language": "python",
   "name": "python3"
  },
  "language_info": {
   "codemirror_mode": {
    "name": "ipython",
    "version": 3
   },
   "file_extension": ".py",
   "mimetype": "text/x-python",
   "name": "python",
   "nbconvert_exporter": "python",
   "pygments_lexer": "ipython3",
   "version": "3.10.11"
  }
 },
 "nbformat": 4,
 "nbformat_minor": 5
}
