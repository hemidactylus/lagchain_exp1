{
 "cells": [
  {
   "cell_type": "markdown",
   "id": "09438b86",
   "metadata": {},
   "source": [
    "# We try to replace the (exact-match) cache with a smooth Cassandra"
   ]
  },
  {
   "cell_type": "code",
   "execution_count": null,
   "id": "5b51ee18",
   "metadata": {},
   "outputs": [],
   "source": [
    "# Open AI\n",
    "# from langchain.llms import OpenAI\n",
    "# llm = OpenAI(model_name=\"text-davinci-002\", n=2, best_of=2)"
   ]
  },
  {
   "cell_type": "code",
   "execution_count": null,
   "id": "1d36e392",
   "metadata": {},
   "outputs": [],
   "source": [
    "# Google VertexAI\n",
    "from googleVertexLLM import googleVertexAILLM\n",
    "llm = googleVertexAILLM()"
   ]
  },
  {
   "cell_type": "code",
   "execution_count": null,
   "id": "9bac51bd",
   "metadata": {},
   "outputs": [],
   "source": [
    "import langchain"
   ]
  },
  {
   "cell_type": "code",
   "execution_count": null,
   "id": "167bf1d9",
   "metadata": {},
   "outputs": [],
   "source": [
    "from CassandraCache import CassandraCache"
   ]
  },
  {
   "cell_type": "code",
   "execution_count": null,
   "id": "6d2bb350",
   "metadata": {},
   "outputs": [],
   "source": [
    "from cqlsession import getCqlSession\n",
    "astraSession = getCqlSession()"
   ]
  },
  {
   "cell_type": "code",
   "execution_count": null,
   "id": "a35a4aab",
   "metadata": {},
   "outputs": [],
   "source": [
    "langchain.llm_cache = CassandraCache(session=astraSession, keyspace='langchain')"
   ]
  },
  {
   "cell_type": "code",
   "execution_count": null,
   "id": "36d1c3c1",
   "metadata": {},
   "outputs": [],
   "source": [
    "# empty the cache table for demonstration purposes\n",
    "langchain.llm_cache.clear()"
   ]
  },
  {
   "cell_type": "code",
   "execution_count": null,
   "id": "37bf972b",
   "metadata": {},
   "outputs": [],
   "source": [
    "%%time\n",
    "# The first time, it is not yet in cache, so it should take longer\n",
    "llm(\"How many eyes do spiders have?\")"
   ]
  },
  {
   "cell_type": "code",
   "execution_count": null,
   "id": "b27b0c53",
   "metadata": {},
   "outputs": [],
   "source": [
    "%%time\n",
    "# This time we expect a much shorter answer time\n",
    "llm(\"How many eyes do spiders have?\")"
   ]
  },
  {
   "cell_type": "markdown",
   "id": "99aa48ce",
   "metadata": {},
   "source": [
    "## You may want to check the Astra table now."
   ]
  }
 ],
 "metadata": {
  "kernelspec": {
   "display_name": "Python 3 (ipykernel)",
   "language": "python",
   "name": "python3"
  },
  "language_info": {
   "codemirror_mode": {
    "name": "ipython",
    "version": 3
   },
   "file_extension": ".py",
   "mimetype": "text/x-python",
   "name": "python",
   "nbconvert_exporter": "python",
   "pygments_lexer": "ipython3",
   "version": "3.10.11"
  }
 },
 "nbformat": 4,
 "nbformat_minor": 5
}
