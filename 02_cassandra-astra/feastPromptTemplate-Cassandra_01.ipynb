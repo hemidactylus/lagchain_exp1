{
 "cells": [
  {
   "cell_type": "code",
   "execution_count": null,
   "id": "5a4cf519",
   "metadata": {},
   "outputs": [],
   "source": [
    "from feast import FeatureStore\n",
    "\n",
    "feast_repo_path = \"../feast_store/user_features/feature_repo/\"\n",
    "store = FeatureStore(repo_path=feast_repo_path)"
   ]
  },
  {
   "cell_type": "code",
   "execution_count": null,
   "id": "ea265533",
   "metadata": {},
   "outputs": [],
   "source": [
    "from feastPromptTemplate import createFeastPromptTemplate"
   ]
  },
  {
   "cell_type": "code",
   "execution_count": null,
   "id": "3cfd282c",
   "metadata": {},
   "outputs": [],
   "source": [
    "ecommercePrompt = \"\"\"You are a helpful assistant for customers of an e-commerce website.\n",
    "You will give them a suggestion on what to do, based on their profile and pattern of usage so far.\n",
    "The customer information is summarized by the following values:\n",
    "\n",
    "> Customer age:               {age}\n",
    "> Number of purchases so far: {purchases}\n",
    "> Site visits (per month):    {visit_frequency}\n",
    "> Active cart now? (1 = yes): {active_cart}\n",
    "\n",
    "USER QUESTION: {user_question}\n",
    "\n",
    "YOUR SUGGESTION: \"\"\""
   ]
  },
  {
   "cell_type": "code",
   "execution_count": null,
   "id": "e4386919",
   "metadata": {},
   "outputs": [],
   "source": [
    "ecommerceTemplate = createFeastPromptTemplate(\n",
    "    store=store,\n",
    "    template=ecommercePrompt,\n",
    "    input_variables=[\"age\", \"purchases\", \"visit_frequency\", \"active_cart\"],\n",
    "    field_mapper={\n",
    "        'age': ('user_data', 'age'),\n",
    "        'purchases': ('user_data', 'purchases'),\n",
    "        'visit_frequency': ('user_data', 'visit_frequency'),\n",
    "        'active_cart': ('active_cart', 'active_cart'),\n",
    "    },\n",
    ")"
   ]
  },
  {
   "cell_type": "code",
   "execution_count": null,
   "id": "d8eb8e9e",
   "metadata": {},
   "outputs": [],
   "source": [
    "print(ecommerceTemplate.format(user_name='marilyn', user_question='How do I remove an item from the cart?'))"
   ]
  },
  {
   "cell_type": "markdown",
   "id": "4de7fafb",
   "metadata": {},
   "source": [
    "### Partialing"
   ]
  },
  {
   "cell_type": "code",
   "execution_count": null,
   "id": "6af1c4a3",
   "metadata": {},
   "outputs": [],
   "source": [
    "eCommPartial = ecommerceTemplate.partial(user_name='rodolfo')\n",
    "print(eCommPartial.format(user_question='When is the next special offer?'))"
   ]
  }
 ],
 "metadata": {
  "kernelspec": {
   "display_name": "Python 3 (ipykernel)",
   "language": "python",
   "name": "python3"
  },
  "language_info": {
   "codemirror_mode": {
    "name": "ipython",
    "version": 3
   },
   "file_extension": ".py",
   "mimetype": "text/x-python",
   "name": "python",
   "nbconvert_exporter": "python",
   "pygments_lexer": "ipython3",
   "version": "3.10.11"
  }
 },
 "nbformat": 4,
 "nbformat_minor": 5
}
