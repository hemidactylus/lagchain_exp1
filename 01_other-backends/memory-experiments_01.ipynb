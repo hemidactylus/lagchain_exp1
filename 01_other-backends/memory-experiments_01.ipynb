{
 "cells": [
  {
   "cell_type": "code",
   "execution_count": null,
   "id": "5debcd5b",
   "metadata": {},
   "outputs": [],
   "source": [
    "from langchain import OpenAI, LLMChain, PromptTemplate"
   ]
  },
  {
   "cell_type": "code",
   "execution_count": null,
   "id": "32486257",
   "metadata": {},
   "outputs": [],
   "source": [
    "llm = OpenAI()"
   ]
  },
  {
   "cell_type": "markdown",
   "id": "53462664",
   "metadata": {},
   "source": [
    "### No-memory counterexample"
   ]
  },
  {
   "cell_type": "code",
   "execution_count": null,
   "id": "166f4eb0",
   "metadata": {},
   "outputs": [],
   "source": [
    "template0 = \"\"\"You are a chatbot having a conversation with a human.\n",
    "\n",
    "Human: {human_input}\n",
    "Chatbot:\"\"\"\n",
    "\n",
    "prompt0 = PromptTemplate(\n",
    "    input_variables=[\"human_input\"], \n",
    "    template=template0\n",
    ")"
   ]
  },
  {
   "cell_type": "code",
   "execution_count": null,
   "id": "67ed130f",
   "metadata": {},
   "outputs": [],
   "source": [
    "llm_chain0 = LLMChain(\n",
    "    llm=llm,\n",
    "    prompt=prompt0, \n",
    "    verbose=True, \n",
    ")"
   ]
  },
  {
   "cell_type": "code",
   "execution_count": null,
   "id": "7db085ee",
   "metadata": {},
   "outputs": [],
   "source": [
    "llm_chain0.predict(human_input=\"Tell me about springs\")"
   ]
  },
  {
   "cell_type": "code",
   "execution_count": null,
   "id": "b81d1fae",
   "metadata": {},
   "outputs": [],
   "source": [
    "llm_chain0.predict(human_input='Er ... I mean the other type actually.')"
   ]
  },
  {
   "cell_type": "markdown",
   "id": "5e939299",
   "metadata": {},
   "source": [
    "# Enter 'memory'"
   ]
  },
  {
   "cell_type": "code",
   "execution_count": null,
   "id": "86df6aa4",
   "metadata": {},
   "outputs": [],
   "source": [
    "from langchain.memory import ConversationBufferMemory"
   ]
  },
  {
   "cell_type": "code",
   "execution_count": null,
   "id": "3484e475",
   "metadata": {},
   "outputs": [],
   "source": [
    "template = \"\"\"You are a chatbot having a conversation with a human.\n",
    "\n",
    "{chat_history}\n",
    "Human: {human_input}\n",
    "Chatbot:\"\"\"\n",
    "\n",
    "prompt = PromptTemplate(\n",
    "    input_variables=[\"chat_history\", \"human_input\"], \n",
    "    template=template\n",
    ")\n",
    "memory = ConversationBufferMemory(memory_key=\"chat_history\")"
   ]
  },
  {
   "cell_type": "code",
   "execution_count": null,
   "id": "507d1bb5",
   "metadata": {},
   "outputs": [],
   "source": [
    "llm_chain = LLMChain(\n",
    "    llm=OpenAI(), \n",
    "    prompt=prompt, \n",
    "    verbose=True, \n",
    "    memory=memory,\n",
    ")"
   ]
  },
  {
   "cell_type": "code",
   "execution_count": null,
   "id": "b4ba75f0",
   "metadata": {},
   "outputs": [],
   "source": [
    "llm_chain.predict(human_input=\"Tell me about springs\")"
   ]
  },
  {
   "cell_type": "code",
   "execution_count": null,
   "id": "1538d40e",
   "metadata": {},
   "outputs": [],
   "source": [
    "llm_chain.predict(human_input='Er ... I mean the other type actually.')"
   ]
  }
 ],
 "metadata": {
  "kernelspec": {
   "display_name": "Python 3 (ipykernel)",
   "language": "python",
   "name": "python3"
  },
  "language_info": {
   "codemirror_mode": {
    "name": "ipython",
    "version": 3
   },
   "file_extension": ".py",
   "mimetype": "text/x-python",
   "name": "python",
   "nbconvert_exporter": "python",
   "pygments_lexer": "ipython3",
   "version": "3.10.11"
  }
 },
 "nbformat": 4,
 "nbformat_minor": 5
}
