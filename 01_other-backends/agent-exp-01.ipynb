{
 "cells": [
  {
   "cell_type": "markdown",
   "id": "f8f208e7",
   "metadata": {},
   "source": [
    "# experiments with Agents"
   ]
  },
  {
   "cell_type": "code",
   "execution_count": null,
   "id": "3f14ac09",
   "metadata": {},
   "outputs": [],
   "source": [
    "from langchain.chat_models import ChatOpenAI\n",
    "llm = ChatOpenAI(temperature=0)"
   ]
  },
  {
   "cell_type": "code",
   "execution_count": null,
   "id": "d8234a74",
   "metadata": {},
   "outputs": [],
   "source": [
    "from langchain.tools import BaseTool\n",
    "from langchain.agents import AgentType, initialize_agent\n",
    "from langchain.callbacks.manager import AsyncCallbackManagerForToolRun, CallbackManagerForToolRun\n",
    "from pydantic import Field\n",
    "from typing import Optional, Type"
   ]
  },
  {
   "cell_type": "code",
   "execution_count": null,
   "id": "22d87f13",
   "metadata": {},
   "outputs": [],
   "source": [
    "class BoxStorage():\n",
    "    def __init__(self, contents):\n",
    "        \"\"\" contents is something like {box -> set-of-strings }\"\"\"\n",
    "        self.boxes = contents\n",
    "    \n",
    "    def list_boxes(self): return list(self.boxes.keys())\n",
    "    \n",
    "    def list_box(self, box): return list(self.boxes[box])\n",
    "\n",
    "    def move_objects(self, objs, bfrom, bto):\n",
    "        for obj in objs:\n",
    "            assert(obj in self.boxes[bfrom])\n",
    "            self.boxes[bfrom] = self.boxes[bfrom] - {obj}\n",
    "            self.boxes[bto] = self.boxes[bto] | {obj}\n",
    "\n",
    "    def __repr__(self):\n",
    "        return 'BoxStorage[%s]' % (', '.join(\n",
    "            '%s=(%s)' % (k, ', '.join(sorted(v)))\n",
    "            for k, v in sorted(self.boxes.items())\n",
    "        ))"
   ]
  },
  {
   "cell_type": "code",
   "execution_count": null,
   "id": "3021b2ac",
   "metadata": {},
   "outputs": [],
   "source": [
    "class CustomListBoxesTool(BaseTool):\n",
    "    name = \"list_boxes\"\n",
    "    description = \"The tool to get a comma-separated list of available boxes. The input is ignored.\"\n",
    "    storage: BoxStorage = Field(exclude=True)\n",
    "    \n",
    "    def _run(self, query: str, run_manager: Optional[CallbackManagerForToolRun] = None) -> str:\n",
    "        \"\"\"Use the tool.\"\"\"\n",
    "        return ', '.join(self.storage.list_boxes())\n",
    "    \n",
    "    async def _arun(self, query: str, run_manager: Optional[AsyncCallbackManagerForToolRun] = None) -> str:\n",
    "        \"\"\"Use the tool asynchronously.\"\"\"\n",
    "        raise NotImplementedError(\"no async\")\n",
    "\n",
    "class CustomMoveObjectsTool(BaseTool):\n",
    "    name = \"move_object\"\n",
    "    description = \"\"\"This is the tool you use to physically move a space-separated list of objects from a box to another box.\n",
    "    The input must have the form \"MOVE object_name_1 object_name_2 ... FROM source_box TO destination_box\".\n",
    "    Each invocation can move a number of objects to exactly one box. Moving to multiple boxes requires mu\"\"\"\n",
    "    storage: BoxStorage = Field(exclude=True)\n",
    "    \n",
    "    def _run(self, query: str, run_manager: Optional[CallbackManagerForToolRun] = None) -> str:\n",
    "        \"\"\"Use the tool.\"\"\"\n",
    "        # an ugly syntax validation, lol\n",
    "        qchunks = [c.strip() for c in query.split(' ') if c.strip()]\n",
    "        fromIndex = [i for i, c in enumerate(qchunks) if c=='FROM'][0]\n",
    "        assert(qchunks[0].lower() == 'move')\n",
    "        assert(qchunks[fromIndex].lower() == 'from')\n",
    "        assert(qchunks[2 + fromIndex].lower() == 'to')\n",
    "        assert(len(qchunks) == 4 + fromIndex)\n",
    "        obs_to_move = set(qchunks[1:fromIndex])\n",
    "        bfrom = qchunks[1 + fromIndex]\n",
    "        bto = qchunks[3 + fromIndex]\n",
    "        self.storage.move_objects(obs_to_move, bfrom, bto)\n",
    "    \n",
    "    async def _arun(self, query: str, run_manager: Optional[AsyncCallbackManagerForToolRun] = None) -> str:\n",
    "        \"\"\"Use the tool asynchronously.\"\"\"\n",
    "        raise NotImplementedError(\"no async\")\n",
    "\n",
    "class CustomListBoxContentTool(BaseTool):\n",
    "    name = \"box_contents\"\n",
    "    description = \"The tool to get a comma-separated list of contents of a box. The input is the box name.\"\n",
    "    storage: BoxStorage = Field(exclude=True)\n",
    "\n",
    "    def _run(self, query: str, run_manager: Optional[CallbackManagerForToolRun] = None) -> str:\n",
    "        \"\"\"Use the tool.\"\"\"\n",
    "        return ', '.join(self.storage.list_box(query))\n",
    "    \n",
    "    async def _arun(self, query: str,  run_manager: Optional[AsyncCallbackManagerForToolRun] = None) -> str:\n",
    "        \"\"\"Use the tool asynchronously.\"\"\"\n",
    "        raise NotImplementedError(\"no async\")\n"
   ]
  },
  {
   "cell_type": "markdown",
   "id": "23b77279",
   "metadata": {},
   "source": [
    "## A simple, guided case"
   ]
  },
  {
   "cell_type": "code",
   "execution_count": null,
   "id": "ebc80223",
   "metadata": {},
   "outputs": [],
   "source": [
    "storage = BoxStorage({'box1': {'apple','banana','pear'}, 'box2': {'car', 'bicycle', 'train'}})\n",
    "storage"
   ]
  },
  {
   "cell_type": "code",
   "execution_count": null,
   "id": "4b45a5fd",
   "metadata": {},
   "outputs": [],
   "source": [
    "tools = [\n",
    "    CustomListBoxesTool(storage=storage),\n",
    "    CustomListBoxContentTool(storage=storage),\n",
    "    CustomMoveObjectsTool(storage=storage)\n",
    "]\n",
    "agent = initialize_agent(tools, llm, agent=AgentType.ZERO_SHOT_REACT_DESCRIPTION, verbose=True)"
   ]
  },
  {
   "cell_type": "code",
   "execution_count": null,
   "id": "0dcf4777",
   "metadata": {
    "scrolled": true
   },
   "outputs": [],
   "source": [
    "agent.run(\"\"\"\n",
    "    You are given some named boxes, each containing some named items,\n",
    "    and the tools to inspect and operate on them.\n",
    "    Verify if there are pears or apples in box1,\n",
    "    then move all of them to box2. You can move several objects at once,\n",
    "    if that is permitted by the available tools.\n",
    "    Stop when there are neither pears nor apples in box1.\n",
    "\"\"\")"
   ]
  },
  {
   "cell_type": "code",
   "execution_count": null,
   "id": "5a8a1244",
   "metadata": {},
   "outputs": [],
   "source": [
    "storage"
   ]
  },
  {
   "cell_type": "markdown",
   "id": "05462c94",
   "metadata": {},
   "source": [
    "## A more 'semantic' experiment"
   ]
  },
  {
   "cell_type": "code",
   "execution_count": null,
   "id": "13de5050",
   "metadata": {},
   "outputs": [],
   "source": [
    "storage2 = BoxStorage({'fruit': {'apple', 'dog'}, 'animals': {'mango', 'cheetah'}})\n",
    "storage2"
   ]
  },
  {
   "cell_type": "code",
   "execution_count": null,
   "id": "31d62711",
   "metadata": {},
   "outputs": [],
   "source": [
    "tools2 = [\n",
    "    CustomListBoxesTool(storage=storage2),\n",
    "    CustomListBoxContentTool(storage=storage2),\n",
    "    CustomMoveObjectsTool(storage=storage2)\n",
    "]\n",
    "agent2 = initialize_agent(tools2, llm, agent=AgentType.ZERO_SHOT_REACT_DESCRIPTION, verbose=True)"
   ]
  },
  {
   "cell_type": "code",
   "execution_count": null,
   "id": "544df517",
   "metadata": {},
   "outputs": [],
   "source": [
    "agent2.run(\"\"\"\n",
    "    You are given some boxes, each containing some items,\n",
    "    and the tools to inspect and operate on them.\n",
    "    \n",
    "    The name of each box describes which kind of objects the box is supposed to contain:\n",
    "    for example, the \"countries\" box should contain Italy and Sweden, but not Rome, bicycle or Saturn.\n",
    "    A box should not contain other types of objects.\n",
    "    \n",
    "    Your task is the following:\n",
    "    - first survey each box to figure out whether there are misplaced items in any of them;\n",
    "    - then, by moving misplaced items to the correct boxes, establish order.\n",
    "    - Finish only after having thoroughly and carefully verified that each box contains only things that are\n",
    "    supposed to be there.\n",
    "\"\"\")"
   ]
  },
  {
   "cell_type": "code",
   "execution_count": null,
   "id": "7ac2b978",
   "metadata": {},
   "outputs": [],
   "source": [
    "storage2"
   ]
  },
  {
   "cell_type": "markdown",
   "id": "3458540a",
   "metadata": {},
   "source": [
    "### Note the agent starts to get confused if there are more items and more boxes."
   ]
  },
  {
   "cell_type": "markdown",
   "id": "e1eaeab0",
   "metadata": {},
   "source": [
    "## Agents with a more complex argument signature"
   ]
  },
  {
   "cell_type": "code",
   "execution_count": null,
   "id": "f7a03734",
   "metadata": {},
   "outputs": [],
   "source": [
    "from langchain.tools import BaseTool"
   ]
  },
  {
   "cell_type": "code",
   "execution_count": null,
   "id": "a0479b53",
   "metadata": {},
   "outputs": [],
   "source": [
    "import numpy as np\n",
    "class NumGenerator():\n",
    "    def __init__(self, added):\n",
    "        self.added = added\n",
    "    def make(self, seed):\n",
    "        np.random.seed(seed)\n",
    "        return np.random.randint(20) + self.added\n",
    "\n",
    "\n",
    "class ComplexArgumentTool(BaseTool):\n",
    "    name = \"find_secret\"\n",
    "    description = \"This is the tool to get the secret string corresponding to a given letter and a given integer seed.\"\n",
    "    generator: NumGenerator = Field(exclude=True)\n",
    "    \n",
    "    def _run(self, letter: str, seed: int, run_manager: Optional[CallbackManagerForToolRun] = None) -> str:\n",
    "        \"\"\"Use the tool.\"\"\"\n",
    "        shifted_letter = chr(ord('A')+((ord(letter[0].upper())-ord('A')+25) % 26))\n",
    "        return shifted_letter * self.generator.make(seed)\n",
    "    \n",
    "    async def _arun(self, letter: str, seed: int, run_manager: Optional[AsyncCallbackManagerForToolRun] = None) -> str:\n",
    "        \"\"\"Use the tool asynchronously.\"\"\"\n",
    "        raise NotImplementedError(\"no async\")\n"
   ]
  },
  {
   "cell_type": "code",
   "execution_count": null,
   "id": "bdee3e52",
   "metadata": {},
   "outputs": [],
   "source": [
    "generator = NumGenerator(4)\n",
    "tool = ComplexArgumentTool(generator=generator)"
   ]
  },
  {
   "cell_type": "code",
   "execution_count": null,
   "id": "68e59ce8",
   "metadata": {},
   "outputs": [],
   "source": [
    "agent_executor = initialize_agent(\n",
    "    [tool],\n",
    "    llm,\n",
    "    agent=AgentType.STRUCTURED_CHAT_ZERO_SHOT_REACT_DESCRIPTION,\n",
    "    verbose=True\n",
    ")"
   ]
  },
  {
   "cell_type": "code",
   "execution_count": null,
   "id": "eae142b2",
   "metadata": {},
   "outputs": [],
   "source": [
    "agent_executor(\"\"\"\n",
    "    You are an assistant tasked with helping users to find their secret,\n",
    "    and you can use the provided tools to achieve that goal.\n",
    "    \n",
    "    The secret is a deterministic function of a seed and a starting letter.\n",
    "    Do not expect any clear relation between the inputs and the secret.\n",
    "    \n",
    "    The secret will be a certain letter repeated a certain number of times.\n",
    "\n",
    "    My seed is eleven and my letter is a Q. Tell me my secret.\n",
    "\"\"\")"
   ]
  }
 ],
 "metadata": {
  "kernelspec": {
   "display_name": "Python 3 (ipykernel)",
   "language": "python",
   "name": "python3"
  },
  "language_info": {
   "codemirror_mode": {
    "name": "ipython",
    "version": 3
   },
   "file_extension": ".py",
   "mimetype": "text/x-python",
   "name": "python",
   "nbconvert_exporter": "python",
   "pygments_lexer": "ipython3",
   "version": "3.10.11"
  }
 },
 "nbformat": 4,
 "nbformat_minor": 5
}
