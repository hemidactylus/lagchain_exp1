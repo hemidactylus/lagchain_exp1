{
 "cells": [
  {
   "cell_type": "markdown",
   "id": "2f0c50b8",
   "metadata": {},
   "source": [
    "# SQLite usage of SQLDatabaseChain"
   ]
  },
  {
   "cell_type": "code",
   "execution_count": null,
   "id": "451ee234",
   "metadata": {},
   "outputs": [],
   "source": [
    "from langchain import OpenAI, SQLDatabase, SQLDatabaseChain"
   ]
  },
  {
   "cell_type": "code",
   "execution_count": null,
   "id": "5e04d99b",
   "metadata": {},
   "outputs": [],
   "source": [
    "db = SQLDatabase.from_uri(\"sqlite:///Chinook.db\")\n",
    "llm = OpenAI(temperature=0)"
   ]
  },
  {
   "cell_type": "code",
   "execution_count": null,
   "id": "84eed293",
   "metadata": {},
   "outputs": [],
   "source": [
    "db_chain = SQLDatabaseChain.from_llm(llm, db, verbose=True)"
   ]
  },
  {
   "cell_type": "code",
   "execution_count": null,
   "id": "186b1c81",
   "metadata": {},
   "outputs": [],
   "source": [
    "db_chain.run(\"Name one album by Queen\")"
   ]
  },
  {
   "cell_type": "markdown",
   "id": "f8df98be",
   "metadata": {},
   "source": [
    "### Prompt customization"
   ]
  },
  {
   "cell_type": "code",
   "execution_count": null,
   "id": "94998ff7",
   "metadata": {},
   "outputs": [],
   "source": [
    "from langchain.prompts.prompt import PromptTemplate\n",
    "\n",
    "_DEFAULT_TEMPLATE = \"\"\"Given an input question, first create a syntactically correct {dialect} query to run, then look at the results of the query and return the answer.\n",
    "Use the following format:\n",
    "\n",
    "Question: \"Question here\"\n",
    "SQLQuery: \"SQL Query to run\"\n",
    "SQLResult: \"Result of the SQLQuery\"\n",
    "Answer: \"Final answer here\"\n",
    "\n",
    "Only use the following tables:\n",
    "\n",
    "{table_info}\n",
    "\n",
    "If someone asks for the \"Musicanti\", what they mean is artists or bands.\n",
    "Also always report a single returned row.\n",
    "\n",
    "Question: {input}\"\"\"\n",
    "PROMPT = PromptTemplate(\n",
    "    input_variables=[\"input\", \"table_info\", \"dialect\"], template=_DEFAULT_TEMPLATE\n",
    ")\n"
   ]
  },
  {
   "cell_type": "code",
   "execution_count": null,
   "id": "4d53a0d5",
   "metadata": {},
   "outputs": [],
   "source": [
    "db_chain = SQLDatabaseChain.from_llm(llm, db, prompt=PROMPT, verbose=True)"
   ]
  },
  {
   "cell_type": "code",
   "execution_count": null,
   "id": "c467758f",
   "metadata": {},
   "outputs": [],
   "source": [
    "db_chain.run(\"I need some albums by the musicanti called metallica\")"
   ]
  },
  {
   "cell_type": "markdown",
   "id": "05c30355",
   "metadata": {},
   "source": [
    "### Return intermediate steps"
   ]
  },
  {
   "cell_type": "code",
   "execution_count": null,
   "id": "1f984b68",
   "metadata": {},
   "outputs": [],
   "source": [
    "db_chain = SQLDatabaseChain.from_llm(llm, db, prompt=PROMPT, verbose=True, return_intermediate_steps=True)"
   ]
  },
  {
   "cell_type": "code",
   "execution_count": null,
   "id": "b2c82e8f",
   "metadata": {},
   "outputs": [],
   "source": [
    "result = db_chain(\"I need some albums by the musicanti called metallica\")\n",
    "result[\"intermediate_steps\"]"
   ]
  },
  {
   "cell_type": "markdown",
   "id": "6a0c3c34",
   "metadata": {},
   "source": [
    "### Setting 'limit' programmatically (as opposed to in custom prompt)"
   ]
  },
  {
   "cell_type": "code",
   "execution_count": null,
   "id": "58989613",
   "metadata": {},
   "outputs": [],
   "source": [
    "db_chain = SQLDatabaseChain.from_llm(llm, db, verbose=True, top_k=3)"
   ]
  },
  {
   "cell_type": "code",
   "execution_count": null,
   "id": "63c705a1",
   "metadata": {},
   "outputs": [],
   "source": [
    "db_chain.run(\"What are some example tracks by composer Beethoven?\")\n",
    "\n",
    "# THIS ERRORS WITH THE MISSING SEMICOLON AFTER 'LIMIT n'"
   ]
  },
  {
   "cell_type": "markdown",
   "id": "cdf580ac",
   "metadata": {},
   "source": [
    "#### Intermezzo: trying to nudge the LLM into adding a semicolon"
   ]
  },
  {
   "cell_type": "code",
   "execution_count": null,
   "id": "b460c0ed",
   "metadata": {},
   "outputs": [],
   "source": [
    "# my test\n",
    "tin = db.table_info\n",
    "# inp = \"What are some example tracks by composer Beethoven?\"\n",
    "inp = \"What are some example tracks by composer Sibelius?\"\n",
    "tpk = 5"
   ]
  },
  {
   "cell_type": "code",
   "execution_count": null,
   "id": "e85d68d0",
   "metadata": {},
   "outputs": [],
   "source": [
    "# my test\n",
    "from langchain.chains.sql_database.prompt import _sqlite_prompt\n",
    "\n",
    "my_sqlite_prompt = \"\"\"You are a SQLite expert. Given an input question, first create a syntactically correct SQLite query to run, then look at the results of the query and return the answer to the input question.\n",
    "Unless the user specifies in the question a specific number of examples to obtain, query for at most {top_k} results using the LIMIT clause as per SQLite. You can order the results to return the most informative data in the database.\n",
    "Never query for all columns from a table. You must query only the columns that are needed to answer the question. Wrap each column name in double quotes (\") to denote them as delimited identifiers.\n",
    "Pay attention to use only the column names you can see in the tables below. Be careful to not query for columns that do not exist. Also, pay attention to which column is in which table.\n",
    "Remember that SQLite statement must end with a semicolon (;).\n",
    "\n",
    "Use the following format:\n",
    "\n",
    "Question: \"Question here\"\n",
    "SQLQuery: \"SQL Query to run\"\n",
    "SQLResult: \"Result of the SQLQuery\"\n",
    "Answer: \"Final answer here\"\n",
    "\n",
    "Only use the following tables:\n",
    "{table_info}\n",
    "\n",
    "Question: {input}\"\"\""
   ]
  },
  {
   "cell_type": "code",
   "execution_count": null,
   "id": "9139bebf",
   "metadata": {},
   "outputs": [],
   "source": [
    "my_sp = my_sqlite_prompt.format(\n",
    "    input=inp,\n",
    "    table_info=tin,\n",
    "    top_k=tpk,\n",
    ")\n",
    "\n",
    "sp = _sqlite_prompt.format(\n",
    "    input=inp,\n",
    "    table_info=tin,\n",
    "    top_k=tpk,\n",
    ")"
   ]
  },
  {
   "cell_type": "code",
   "execution_count": null,
   "id": "6d1aea19",
   "metadata": {},
   "outputs": [],
   "source": [
    "base_result = llm(sp)\n",
    "my_result = llm(my_sp)"
   ]
  },
  {
   "cell_type": "code",
   "execution_count": null,
   "id": "d15d2f79",
   "metadata": {},
   "outputs": [],
   "source": [
    "print(base_result)\n",
    "print(my_result)"
   ]
  },
  {
   "cell_type": "markdown",
   "id": "215605d1",
   "metadata": {},
   "source": [
    "#### Test: explicit specification of the prompt to use"
   ]
  },
  {
   "cell_type": "code",
   "execution_count": null,
   "id": "2b9e670e",
   "metadata": {},
   "outputs": [],
   "source": [
    "# vanilla sqlite still not working\n",
    "from langchain.chains.sql_database.prompt import SQLITE_PROMPT\n",
    "db_chain = SQLDatabaseChain.from_llm(llm, db, prompt=SQLITE_PROMPT, verbose=True)\n",
    "db_chain.run(\"What are some example tracks by composer Beethoven?\")\n",
    "\n",
    "# THIS ERRORS WITH THE MISSING SEMICOLON AFTER 'LIMIT n'"
   ]
  },
  {
   "cell_type": "code",
   "execution_count": null,
   "id": "0a7ca9e1",
   "metadata": {},
   "outputs": [],
   "source": [
    "from langchain.chains.sql_database.prompt import PromptTemplate\n",
    "\n",
    "MY_SQLITE_PROMPT = PromptTemplate(\n",
    "    input_variables=[\"input\", \"table_info\", \"top_k\"],\n",
    "    template=my_sqlite_prompt,\n",
    ")\n",
    "\n",
    "db_chain = SQLDatabaseChain.from_llm(llm, db, prompt=MY_SQLITE_PROMPT, verbose=True, top_k=2)\n",
    "db_chain.run(\"What are some example tracks by composer Johann Sebastian Bach?\")"
   ]
  },
  {
   "cell_type": "markdown",
   "id": "4302bcc4",
   "metadata": {},
   "source": [
    "#### Adding sample rows in table_info for more informed results"
   ]
  },
  {
   "cell_type": "code",
   "execution_count": null,
   "id": "9e1b09a9",
   "metadata": {},
   "outputs": [],
   "source": [
    "db = SQLDatabase.from_uri(\n",
    "    \"sqlite:///Chinook.db\",\n",
    "    include_tables=['Track'], # we include only one table to save tokens in the prompt :)\n",
    "    sample_rows_in_table_info=2)"
   ]
  },
  {
   "cell_type": "code",
   "execution_count": null,
   "id": "c1c20c53",
   "metadata": {},
   "outputs": [],
   "source": [
    "print(db.table_info)"
   ]
  },
  {
   "cell_type": "code",
   "execution_count": null,
   "id": "2cf6d32e",
   "metadata": {},
   "outputs": [],
   "source": [
    "db_chain = SQLDatabaseChain.from_llm(llm, db, verbose=True)"
   ]
  },
  {
   "cell_type": "code",
   "execution_count": null,
   "id": "3edb19b8",
   "metadata": {},
   "outputs": [],
   "source": [
    "db_chain.run(\"What are some example tracks by Bach?\")"
   ]
  },
  {
   "cell_type": "markdown",
   "id": "44fad0ba",
   "metadata": {},
   "source": [
    "#### Custom table info"
   ]
  },
  {
   "cell_type": "code",
   "execution_count": null,
   "id": "44adcbcc",
   "metadata": {},
   "outputs": [],
   "source": [
    "custom_table_info = {\n",
    "    \"Track\": \"\"\"CREATE TABLE Track (\n",
    "    \"TrackId\" INTEGER NOT NULL, \n",
    "    \"Name\" NVARCHAR(200) NOT NULL,\n",
    "    \"Composer\" NVARCHAR(220),\n",
    "    PRIMARY KEY (\"TrackId\")\n",
    ")\n",
    "/*\n",
    "3 rows from Track table:\n",
    "TrackId Name    Composer\n",
    "1   For Those About To Rock (We Salute You) Angus Young, Malcolm Young, Brian Johnson\n",
    "2   Balls to the Wall   None\n",
    "3   My favorite song ever   The coolest composer of all time\n",
    "*/\"\"\"\n",
    "}"
   ]
  },
  {
   "cell_type": "code",
   "execution_count": null,
   "id": "ee6ea913",
   "metadata": {},
   "outputs": [],
   "source": [
    "db = SQLDatabase.from_uri(\n",
    "    \"sqlite:///Chinook.db\",\n",
    "    include_tables=['Track', 'Playlist'],\n",
    "    sample_rows_in_table_info=2,\n",
    "    custom_table_info=custom_table_info)\n",
    "\n",
    "print(db.table_info)    "
   ]
  },
  {
   "cell_type": "code",
   "execution_count": null,
   "id": "d5e10037",
   "metadata": {},
   "outputs": [],
   "source": [
    "db_chain = SQLDatabaseChain.from_llm(llm, db, verbose=True)\n",
    "db_chain.run(\"What are some example tracks by Bach?\")"
   ]
  },
  {
   "cell_type": "markdown",
   "id": "57db0ccf",
   "metadata": {},
   "source": [
    "### SQLDatabaseSequentialChain"
   ]
  },
  {
   "cell_type": "code",
   "execution_count": null,
   "id": "a093ce2c",
   "metadata": {},
   "outputs": [],
   "source": [
    "from langchain.chains import SQLDatabaseSequentialChain\n",
    "db = SQLDatabase.from_uri(\"sqlite:///Chinook.db\")"
   ]
  },
  {
   "cell_type": "code",
   "execution_count": null,
   "id": "ed873887",
   "metadata": {},
   "outputs": [],
   "source": [
    "chain = SQLDatabaseSequentialChain.from_llm(llm, db, verbose=True)"
   ]
  },
  {
   "cell_type": "code",
   "execution_count": null,
   "id": "6bba54c4",
   "metadata": {},
   "outputs": [],
   "source": [
    "chain.run(\"How many employees are also customers?\")"
   ]
  }
 ],
 "metadata": {
  "kernelspec": {
   "display_name": "Python 3 (ipykernel)",
   "language": "python",
   "name": "python3"
  },
  "language_info": {
   "codemirror_mode": {
    "name": "ipython",
    "version": 3
   },
   "file_extension": ".py",
   "mimetype": "text/x-python",
   "name": "python",
   "nbconvert_exporter": "python",
   "pygments_lexer": "ipython3",
   "version": "3.10.11"
  }
 },
 "nbformat": 4,
 "nbformat_minor": 5
}
