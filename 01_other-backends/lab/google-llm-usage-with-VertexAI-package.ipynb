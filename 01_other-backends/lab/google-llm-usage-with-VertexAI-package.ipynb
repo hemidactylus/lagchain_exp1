{
 "cells": [
  {
   "cell_type": "markdown",
   "id": "7cc404e1",
   "metadata": {},
   "source": [
    "# MAY 22, after Alex' findings\n",
    "\n",
    "The \"orthodox\" method does not seem to work with our project.\n",
    "Alex and Noel found a workaround. We are testing it as a preliminary step\n",
    "to dropping it in LangChain usage."
   ]
  },
  {
   "cell_type": "markdown",
   "id": "e878c662",
   "metadata": {},
   "source": [
    "#### Required:\n",
    "\n",
    "```\n",
    "pip install google-api-python-client~=2.86.0 google-cloud-aiplatform~=1.25.0 google-generativeai~=0.1.0rc3\n",
    "```\n",
    "\n",
    "### Authentication\n",
    "\n",
    "You need a service account, then you run this command on your laptop:\n",
    "\n",
    "```\n",
    "gcloud auth login\n",
    "```\n",
    "\n",
    "A browser will appear to do the oAuth2 thing. This also creates a JSON file in\n",
    "`$HOME/.config/gcloud/application_default_credentials.json` (besides printing your google Project ID).\n",
    "\n",
    "Make these two strings available to the environment (check the following)."
   ]
  },
  {
   "cell_type": "code",
   "execution_count": 1,
   "id": "57adfee1",
   "metadata": {},
   "outputs": [],
   "source": [
    "import os\n",
    "import json\n",
    "\n",
    "from google.cloud import aiplatform\n",
    "from google.oauth2 import service_account\n",
    "from vertexai.preview.language_models import TextEmbeddingModel, ChatModel, InputOutputTextPair"
   ]
  },
  {
   "cell_type": "code",
   "execution_count": 2,
   "id": "72b67e45",
   "metadata": {},
   "outputs": [],
   "source": [
    "GOOGLE_CLOUD_PROJECT = os.environ['GOOGLE_CLOUD_PROJECT']\n",
    "GOOGLE_AUTH_JSON_PATH = os.environ['GOOGLE_AUTH_JSON_PATH']\n",
    "\n",
    "\n",
    "json_str = open(GOOGLE_AUTH_JSON_PATH).read()\n",
    "json_data = json.loads(json_str)\n",
    "json_data['private_key'] = json_data['private_key'].replace('\\\\n', '\\n')"
   ]
  },
  {
   "cell_type": "code",
   "execution_count": 3,
   "id": "8b717e75",
   "metadata": {},
   "outputs": [],
   "source": [
    "credentials = service_account.Credentials.from_service_account_info(json_data)\n",
    "\n",
    "aiplatform.init(project=GOOGLE_CLOUD_PROJECT, credentials=credentials)"
   ]
  },
  {
   "cell_type": "markdown",
   "id": "f1de3477",
   "metadata": {},
   "source": [
    "### Completion model\n",
    "\n",
    "See for instance `https://cloud.google.com/python/docs/reference/aiplatform/latest/vertexai.preview.language_models.TextGenerationModel`"
   ]
  },
  {
   "cell_type": "code",
   "execution_count": 4,
   "id": "a53c0680",
   "metadata": {},
   "outputs": [],
   "source": [
    "from vertexai.preview.language_models import TextGenerationModel\n",
    "genModel = TextGenerationModel.from_pretrained(\"text-bison@001\")\n",
    "result = genModel.predict(\"Please tell me where is Oklahoma located.\")"
   ]
  },
  {
   "cell_type": "code",
   "execution_count": 5,
   "id": "62047746",
   "metadata": {},
   "outputs": [
    {
     "name": "stdout",
     "output_type": "stream",
     "text": [
      "<class 'vertexai.language_models._language_models.TextGenerationResponse'>\n",
      "\n",
      "\n",
      "Oklahoma is located in the United States. It is bordered by Texas to the south, Arkansas to the east, Missouri to the northeast, Kansas to the north, and Colorado to the northwest. Oklahoma is a state in the South Central region of the United States. It is bordered by Texas to the south, Arkansas to the east, Missouri to the northeast, Kansas to the north, and Colorado to the northwest. Oklahoma is the 20th largest state in the United States, with a total area of 69,898 square miles (181,035 km2). The state's capital\n",
      "\n",
      "\n",
      "<class 'str'>\n",
      "\n",
      "\n",
      "Oklahoma is located in the United States. It is bordered by Texas to the south, Arkansas to the east, Missouri to the northeast, Kansas to the north, and Colorado to the northwest. Oklahoma is a state in the South Central region of the United States. It is bordered by Texas to the south, Arkansas to the east, Missouri to the northeast, Kansas to the north, and Colorado to the northwest. Oklahoma is the 20th largest state in the United States, with a total area of 69,898 square miles (181,035 km2). The state's capital\n"
     ]
    }
   ],
   "source": [
    "print(type(result))\n",
    "print('\\n\\n%s\\n\\n' % str(result))\n",
    "print(type(result.text))\n",
    "print('\\n\\n%s' % result.text)"
   ]
  },
  {
   "cell_type": "markdown",
   "id": "f795eb27",
   "metadata": {},
   "source": [
    "### Embeddings"
   ]
  },
  {
   "cell_type": "code",
   "execution_count": 6,
   "id": "98e4fcc7",
   "metadata": {},
   "outputs": [],
   "source": [
    "embedding_model = TextEmbeddingModel.from_pretrained(\"textembedding-gecko@001\")\n",
    "\n",
    "embeddings = embedding_model.get_embeddings(['Hello, this is text'])"
   ]
  },
  {
   "cell_type": "code",
   "execution_count": 7,
   "id": "bfff420e",
   "metadata": {},
   "outputs": [
    {
     "name": "stdout",
     "output_type": "stream",
     "text": [
      "<class 'list'>\n",
      "\n",
      "\n",
      "[0.0009353527566418052, 0.013470692560076714, 0.006255208980292082, 0.011925805360078812, 0.01133446954190731, 0.0008504986180923879, 0.0034989851992577314, 0.037757065147161484, 0.0011046730214729905, 0.036481037735939026, -0.0030782767571508884, -0.02927...\n"
     ]
    }
   ],
   "source": [
    "print(type(embeddings[0].values))\n",
    "print('\\n\\n%s...' % str(embeddings[0].values)[:256])"
   ]
  },
  {
   "cell_type": "markdown",
   "id": "496038cc",
   "metadata": {},
   "source": [
    "### Chat-specific"
   ]
  },
  {
   "cell_type": "code",
   "execution_count": 8,
   "id": "62f3a911",
   "metadata": {},
   "outputs": [],
   "source": [
    "chat_model = ChatModel.from_pretrained(\"chat-bison@001\")\n",
    "\n",
    "context = \"\"\"You speak like a pirate.\"\"\""
   ]
  },
  {
   "cell_type": "code",
   "execution_count": 9,
   "id": "5fa78c57",
   "metadata": {},
   "outputs": [],
   "source": [
    "chat = chat_model.start_chat(\n",
    "    context=context,\n",
    "    examples=[]\n",
    ")\n",
    "parameters = {\n",
    "    \"temperature\": 0.2,\n",
    "    \"max_output_tokens\": 256,\n",
    "    \"top_p\": 0.95,\n",
    "#     \"top_k\": 40,\n",
    "}"
   ]
  },
  {
   "cell_type": "code",
   "execution_count": 10,
   "id": "04bb37bc",
   "metadata": {},
   "outputs": [],
   "source": [
    "chatResponse = chat.send_message('Tell me what is the capital city of Portugal.', **parameters)"
   ]
  },
  {
   "cell_type": "code",
   "execution_count": 11,
   "id": "d2202a8e",
   "metadata": {},
   "outputs": [
    {
     "name": "stdout",
     "output_type": "stream",
     "text": [
      "Ahoy there, matey! The capital city of Portugal is Lisbon. It's a beautiful city with a rich history and culture. If ye ever have the chance to visit, I highly recommend it.\n"
     ]
    }
   ],
   "source": [
    "print(chatResponse.text)"
   ]
  }
 ],
 "metadata": {
  "kernelspec": {
   "display_name": "Python 3 (ipykernel)",
   "language": "python",
   "name": "python3"
  },
  "language_info": {
   "codemirror_mode": {
    "name": "ipython",
    "version": 3
   },
   "file_extension": ".py",
   "mimetype": "text/x-python",
   "name": "python",
   "nbconvert_exporter": "python",
   "pygments_lexer": "ipython3",
   "version": "3.10.11"
  }
 },
 "nbformat": 4,
 "nbformat_minor": 5
}
