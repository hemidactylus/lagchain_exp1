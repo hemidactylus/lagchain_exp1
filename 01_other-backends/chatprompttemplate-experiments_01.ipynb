{
 "cells": [
  {
   "cell_type": "code",
   "execution_count": 1,
   "id": "7b99912e",
   "metadata": {},
   "outputs": [],
   "source": [
    "from langchain.prompts import (\n",
    "    ChatPromptTemplate,\n",
    "    PromptTemplate,\n",
    "    SystemMessagePromptTemplate,\n",
    "    AIMessagePromptTemplate,\n",
    "    HumanMessagePromptTemplate,\n",
    ")\n",
    "from langchain.schema import (\n",
    "    AIMessage,\n",
    "    HumanMessage,\n",
    "    SystemMessage\n",
    ")"
   ]
  },
  {
   "cell_type": "code",
   "execution_count": 3,
   "id": "5aac9a2c",
   "metadata": {},
   "outputs": [],
   "source": [
    "systemTemplate = \"\"\"\n",
    "You are a chat assistant, writing in {writing_style} style.\n",
    "In your answers, you try to always reference {interlopers}.\n",
    "\"\"\"\n",
    "\n",
    "systemPrompt = PromptTemplate(\n",
    "    template=systemTemplate,\n",
    "    input_variables=[\"writing_style\", \"interlopers\"],\n",
    ")\n",
    "\n",
    "systemMessagePrompt = SystemMessagePromptTemplate(prompt=systemPrompt)"
   ]
  },
  {
   "cell_type": "code",
   "execution_count": 26,
   "id": "27eec55f",
   "metadata": {},
   "outputs": [],
   "source": [
    "humanTemplate = \"{text}\"\n",
    "humanMessagePrompt = HumanMessagePromptTemplate.from_template(humanTemplate)"
   ]
  },
  {
   "cell_type": "code",
   "execution_count": 27,
   "id": "fc1ef5e2",
   "metadata": {},
   "outputs": [],
   "source": [
    "##"
   ]
  },
  {
   "cell_type": "code",
   "execution_count": 28,
   "id": "c68d117d",
   "metadata": {},
   "outputs": [],
   "source": [
    "chatPrompt = ChatPromptTemplate.from_messages([systemMessagePrompt, humanMessagePrompt])"
   ]
  },
  {
   "cell_type": "code",
   "execution_count": 29,
   "id": "5d97492e",
   "metadata": {},
   "outputs": [],
   "source": [
    "# rendering"
   ]
  },
  {
   "cell_type": "code",
   "execution_count": 30,
   "id": "2451c0d5",
   "metadata": {},
   "outputs": [
    {
     "data": {
      "text/plain": [
       "'System: \\nYou are a hat assistant, writing in serious style.\\nIn your answers, you try to always reference pizzas.\\n\\nHuman: Here we are.'"
      ]
     },
     "execution_count": 30,
     "metadata": {},
     "output_type": "execute_result"
    }
   ],
   "source": [
    "chatPrompt.format(writing_style='serious', interlopers='pizzas', text='Here we are.')"
   ]
  },
  {
   "cell_type": "code",
   "execution_count": 19,
   "id": "6f77f7ce",
   "metadata": {},
   "outputs": [
    {
     "data": {
      "text/plain": [
       "'System: \\nYou are a hat assistant, writing in serious style.\\nIn your answers, you try to always reference pizzas.\\n\\nHuman: Here we are.'"
      ]
     },
     "execution_count": 19,
     "metadata": {},
     "output_type": "execute_result"
    }
   ],
   "source": [
    "chatPrompt.format_prompt(writing_style='serious', interlopers='pizzas', text='Here we are.').to_string()"
   ]
  },
  {
   "cell_type": "code",
   "execution_count": 17,
   "id": "447a0413",
   "metadata": {},
   "outputs": [
    {
     "data": {
      "text/plain": [
       "ChatPromptValue(messages=[SystemMessage(content='\\nYou are a hat assistant, writing in serious style.\\nIn your answers, you try to always reference pizzas.\\n', additional_kwargs={}), HumanMessage(content='Here we are.', additional_kwargs={}, example=False)])"
      ]
     },
     "execution_count": 17,
     "metadata": {},
     "output_type": "execute_result"
    }
   ],
   "source": [
    "chatPrompt.format_prompt(writing_style='serious', interlopers='pizzas', text='Here we are.')"
   ]
  },
  {
   "cell_type": "code",
   "execution_count": 18,
   "id": "ec56f30e",
   "metadata": {},
   "outputs": [
    {
     "data": {
      "text/plain": [
       "[SystemMessage(content='\\nYou are a hat assistant, writing in serious style.\\nIn your answers, you try to always reference pizzas.\\n', additional_kwargs={}),\n",
       " HumanMessage(content='Here we are.', additional_kwargs={}, example=False)]"
      ]
     },
     "execution_count": 18,
     "metadata": {},
     "output_type": "execute_result"
    }
   ],
   "source": [
    "chatPrompt.format_prompt(writing_style='serious', interlopers='pizzas', text='Here we are.').to_messages()"
   ]
  },
  {
   "cell_type": "markdown",
   "id": "c74bd4b3",
   "metadata": {},
   "source": [
    "## Can we modify how the ChatPromptTemplate stacks its messages?"
   ]
  },
  {
   "cell_type": "code",
   "execution_count": null,
   "id": "aab849ae",
   "metadata": {},
   "outputs": [],
   "source": []
  }
 ],
 "metadata": {
  "kernelspec": {
   "display_name": "Python 3 (ipykernel)",
   "language": "python",
   "name": "python3"
  },
  "language_info": {
   "codemirror_mode": {
    "name": "ipython",
    "version": 3
   },
   "file_extension": ".py",
   "mimetype": "text/x-python",
   "name": "python",
   "nbconvert_exporter": "python",
   "pygments_lexer": "ipython3",
   "version": "3.10.11"
  }
 },
 "nbformat": 4,
 "nbformat_minor": 5
}
